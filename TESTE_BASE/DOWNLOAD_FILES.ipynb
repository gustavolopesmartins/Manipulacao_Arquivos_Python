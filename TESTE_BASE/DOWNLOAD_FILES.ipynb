{
 "cells": [
  {
   "cell_type": "code",
   "execution_count": 10,
   "metadata": {
    "tags": []
   },
   "outputs": [],
   "source": [
    "# Libs necessárias\n",
    "\n",
    "\n",
    "def request(url:str = None,nome_arquivo:str = '', extensao:str='zip'):\n",
    "    \"\"\"AI is creating summary for request\n",
    "\n",
    "    Args:\n",
    "        url (str): Caminho online de onde possam ter redirecionamentos href.\n",
    "        nome_arquivo (str): nome do arquivo que vamos buscar ou dos arquivos se tiverem mais de um com o mesmo nome.\n",
    "        extensao (str): extenção do arquivo que vamos buscar se formos buscar por um download em específico.\n",
    "\n",
    "    Returns:\n",
    "        urls : Retorna uma lista com todos as urls que deram math com os parâmetros passados no crawler da url infomrada.\n",
    "    \"\"\"\n",
    "    import re\n",
    "    import urllib.request\n",
    "    nome_arquivo = nome_arquivo.capitalize()\n",
    "    print(nome_arquivo)\n",
    "    abre_url = urllib.request.urlopen(url)\n",
    "    \n",
    "    le_url = abre_url.read()\n",
    "\n",
    "    converte_leitura_url = le_url.decode(\"utf8\")\n",
    "    abre_url.close()\n",
    "    \n",
    "    urls = []\n",
    "    urls = [f'{url}{i}' for i in re.findall(r'[\\w\\d]+.(?:zip|pdf|csv)', converte_leitura_url) if i.startswith(nome_arquivo)]\n",
    "    #urls = [f'{url}{i}.zip' for i in re.findall(f'href=\"(.*?).{extensao}', converte_leitura_url) if i.startswith(nome_arquivo)]\n",
    "        \n",
    "    return urls\n",
    "def download(url:str=None, salvar_onde:str= './' ):\n",
    "    \"\"\"\n",
    "\n",
    "    Args:\n",
    "        url (str): URL de do arquivo para download.\n",
    "        salvar_onde (str): Pasta de destino do arquivo baixado.\n",
    "    \"\"\"\n",
    "    from pySmartDL import SmartDL\n",
    "    obj = SmartDL(url, salvar_onde)\n",
    "    obj.start()\n",
    "    path = obj.get_dest()"
   ]
  },
  {
   "cell_type": "code",
   "execution_count": null,
   "metadata": {},
   "outputs": [],
   "source": [
    "class CrawlerDownloader: \n",
    "    def init(self, url:str = None,nome_arquivo:str = '', extensao:str='zip', salvar_onde:str= './'): \n",
    "        self.url = url \n",
    "        self.nome_arquivo = nome_arquivo.capitalize() \n",
    "        self.extensao = extensao \n",
    "        self.salvar_onde = salvar_onde\n",
    "\n",
    "    def request(self):\n",
    "        import re\n",
    "        import urllib.request\n",
    "        abre_url = urllib.request.urlopen(self.url)\n",
    "        le_url = abre_url.read()\n",
    "        converte_leitura_url = le_url.decode(\"utf8\")\n",
    "        abre_url.close()\n",
    "        urls = []\n",
    "        urls = [f'{self.url}{i}.{self.extensao}' for i in re.findall(f'href=\"(.*?).{self.extensao}', converte_leitura_url) if i.startswith(self.nome_arquivo)]\n",
    "        return urls\n",
    "\n",
    "    def download(self, url:str=None):\n",
    "        from pySmartDL import SmartDL\n",
    "        obj = SmartDL(url, self.salvar_onde)\n",
    "        obj.start()\n",
    "        path = obj.get_dest()\n",
    "\n",
    "    def run(self):\n",
    "        urls = self.request()\n",
    "        for url in urls:\n",
    "            self.download(url)"
   ]
  },
  {
   "cell_type": "code",
   "execution_count": 11,
   "metadata": {
    "tags": []
   },
   "outputs": [
    {
     "name": "stdout",
     "output_type": "stream",
     "text": [
      "\n"
     ]
    },
    {
     "data": {
      "text/plain": [
       "['http://200.152.38.155/CNPJ/Cnaes.zip.zip',\n",
       " 'http://200.152.38.155/CNPJ/Cnaes.zip.zip',\n",
       " 'http://200.152.38.155/CNPJ/Empresas0.zip.zip',\n",
       " 'http://200.152.38.155/CNPJ/Empresas0.zip.zip',\n",
       " 'http://200.152.38.155/CNPJ/Empresas1.zip.zip',\n",
       " 'http://200.152.38.155/CNPJ/Empresas1.zip.zip',\n",
       " 'http://200.152.38.155/CNPJ/Empresas2.zip.zip',\n",
       " 'http://200.152.38.155/CNPJ/Empresas2.zip.zip',\n",
       " 'http://200.152.38.155/CNPJ/Empresas3.zip.zip',\n",
       " 'http://200.152.38.155/CNPJ/Empresas3.zip.zip',\n",
       " 'http://200.152.38.155/CNPJ/Empresas4.zip.zip',\n",
       " 'http://200.152.38.155/CNPJ/Empresas4.zip.zip',\n",
       " 'http://200.152.38.155/CNPJ/Empresas5.zip.zip',\n",
       " 'http://200.152.38.155/CNPJ/Empresas5.zip.zip',\n",
       " 'http://200.152.38.155/CNPJ/Empresas6.zip.zip',\n",
       " 'http://200.152.38.155/CNPJ/Empresas6.zip.zip',\n",
       " 'http://200.152.38.155/CNPJ/Empresas7.zip.zip',\n",
       " 'http://200.152.38.155/CNPJ/Empresas7.zip.zip',\n",
       " 'http://200.152.38.155/CNPJ/Empresas8.zip.zip',\n",
       " 'http://200.152.38.155/CNPJ/Empresas8.zip.zip',\n",
       " 'http://200.152.38.155/CNPJ/Empresas9.zip.zip',\n",
       " 'http://200.152.38.155/CNPJ/Empresas9.zip.zip',\n",
       " 'http://200.152.38.155/CNPJ/Estabelecimentos0.zip.zip',\n",
       " 'http://200.152.38.155/CNPJ/Estabelecimentos0.zip.zip',\n",
       " 'http://200.152.38.155/CNPJ/Estabelecimentos1.zip.zip',\n",
       " 'http://200.152.38.155/CNPJ/Estabelecimentos1.zip.zip',\n",
       " 'http://200.152.38.155/CNPJ/Estabelecimentos2.zip.zip',\n",
       " 'http://200.152.38.155/CNPJ/Estabelecimentos2.zip.zip',\n",
       " 'http://200.152.38.155/CNPJ/Estabelecimentos3.zip.zip',\n",
       " 'http://200.152.38.155/CNPJ/Estabelecimentos3.zip.zip',\n",
       " 'http://200.152.38.155/CNPJ/Estabelecimentos4.zip.zip',\n",
       " 'http://200.152.38.155/CNPJ/Estabelecimentos4.zip.zip',\n",
       " 'http://200.152.38.155/CNPJ/Estabelecimentos5.zip.zip',\n",
       " 'http://200.152.38.155/CNPJ/Estabelecimentos5.zip.zip',\n",
       " 'http://200.152.38.155/CNPJ/Estabelecimentos6.zip.zip',\n",
       " 'http://200.152.38.155/CNPJ/Estabelecimentos6.zip.zip',\n",
       " 'http://200.152.38.155/CNPJ/Estabelecimentos7.zip.zip',\n",
       " 'http://200.152.38.155/CNPJ/Estabelecimentos7.zip.zip',\n",
       " 'http://200.152.38.155/CNPJ/Estabelecimentos8.zip.zip',\n",
       " 'http://200.152.38.155/CNPJ/Estabelecimentos8.zip.zip',\n",
       " 'http://200.152.38.155/CNPJ/Estabelecimentos9.zip.zip',\n",
       " 'http://200.152.38.155/CNPJ/Estabelecimentos9.zip.zip',\n",
       " 'http://200.152.38.155/CNPJ/LAYOUT_DADOS_ABERTOS_CNPJ.pdf.zip',\n",
       " 'http://200.152.38.155/CNPJ/Motivos.zip.zip',\n",
       " 'http://200.152.38.155/CNPJ/Motivos.zip.zip',\n",
       " 'http://200.152.38.155/CNPJ/Municipios.zip.zip',\n",
       " 'http://200.152.38.155/CNPJ/Municipios.zip.zip',\n",
       " 'http://200.152.38.155/CNPJ/Naturezas.zip.zip',\n",
       " 'http://200.152.38.155/CNPJ/Naturezas.zip.zip',\n",
       " 'http://200.152.38.155/CNPJ/Paises.zip.zip',\n",
       " 'http://200.152.38.155/CNPJ/Paises.zip.zip',\n",
       " 'http://200.152.38.155/CNPJ/Qualificacoes.zip.zip',\n",
       " 'http://200.152.38.155/CNPJ/Qualificacoes.zip.zip',\n",
       " 'http://200.152.38.155/CNPJ/Simples.zip.zip',\n",
       " 'http://200.152.38.155/CNPJ/Simples.zip.zip',\n",
       " 'http://200.152.38.155/CNPJ/Socios0.zip.zip',\n",
       " 'http://200.152.38.155/CNPJ/Socios0.zip.zip',\n",
       " 'http://200.152.38.155/CNPJ/Socios1.zip.zip',\n",
       " 'http://200.152.38.155/CNPJ/Socios1.zip.zip',\n",
       " 'http://200.152.38.155/CNPJ/Socios2.zip.zip',\n",
       " 'http://200.152.38.155/CNPJ/Socios2.zip.zip',\n",
       " 'http://200.152.38.155/CNPJ/Socios3.zip.zip',\n",
       " 'http://200.152.38.155/CNPJ/Socios3.zip.zip',\n",
       " 'http://200.152.38.155/CNPJ/Socios4.zip.zip',\n",
       " 'http://200.152.38.155/CNPJ/Socios4.zip.zip',\n",
       " 'http://200.152.38.155/CNPJ/Socios5.zip.zip',\n",
       " 'http://200.152.38.155/CNPJ/Socios5.zip.zip',\n",
       " 'http://200.152.38.155/CNPJ/Socios6.zip.zip',\n",
       " 'http://200.152.38.155/CNPJ/Socios6.zip.zip',\n",
       " 'http://200.152.38.155/CNPJ/Socios7.zip.zip',\n",
       " 'http://200.152.38.155/CNPJ/Socios7.zip.zip',\n",
       " 'http://200.152.38.155/CNPJ/Socios8.zip.zip',\n",
       " 'http://200.152.38.155/CNPJ/Socios8.zip.zip',\n",
       " 'http://200.152.38.155/CNPJ/Socios9.zip.zip',\n",
       " 'http://200.152.38.155/CNPJ/Socios9.zip.zip']"
      ]
     },
     "execution_count": 11,
     "metadata": {},
     "output_type": "execute_result"
    }
   ],
   "source": [
    "links = [\"https://dadosabertos.rfb.gov.br/CNPJ/\", \"http://200.152.38.155/CNPJ/\"]\n",
    "src = request(links[1])\n",
    "src"
   ]
  }
 ],
 "metadata": {
  "kernelspec": {
   "display_name": "Python 3 (ipykernel)",
   "language": "python",
   "name": "python3"
  },
  "language_info": {
   "codemirror_mode": {
    "name": "ipython",
    "version": 3
   },
   "file_extension": ".py",
   "mimetype": "text/x-python",
   "name": "python",
   "nbconvert_exporter": "python",
   "pygments_lexer": "ipython3",
   "version": "3.9.13"
  },
  "widgets": {
   "application/vnd.jupyter.widget-state+json": {
    "state": {},
    "version_major": 2,
    "version_minor": 0
   }
  }
 },
 "nbformat": 4,
 "nbformat_minor": 4
}
