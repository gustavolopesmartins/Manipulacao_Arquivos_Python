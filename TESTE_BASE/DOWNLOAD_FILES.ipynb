{
 "cells": [
  {
   "cell_type": "code",
   "execution_count": null,
   "metadata": {
    "tags": []
   },
   "outputs": [],
   "source": [
    "# Libs necessárias\n",
    "\n",
    "\n",
    "def request(url:str = None,nome_arquivo:str = '', extensao:str='zip'):\n",
    "    \"\"\"AI is creating summary for request\n",
    "\n",
    "    Args:\n",
    "        url (str): Caminho online de onde possam ter redirecionamentos href.\n",
    "        nome_arquivo (str): nome do arquivo que vamos buscar ou dos arquivos se tiverem mais de um com o mesmo nome.\n",
    "        extensao (str): extenção do arquivo que vamos buscar se formos buscar por um download em específico.\n",
    "\n",
    "    Returns:\n",
    "        urls : Retorna uma lista com todos as urls que deram math com os parâmetros passados no crawler da url infomrada.\n",
    "    \"\"\"\n",
    "    import re\n",
    "    import urllib.request\n",
    "    nome_arquivo = nome_arquivo.capitalize()\n",
    "    print(nome_arquivo)\n",
    "    abre_url = urllib.request.urlopen(url)\n",
    "    \n",
    "    le_url = abre_url.read()\n",
    "\n",
    "    converte_leitura_url = le_url.decode(\"utf8\")\n",
    "    abre_url.close()\n",
    "    \n",
    "    urls = []\n",
    "    #urls = [ f\"{url}{i.replace('<', '')}\" for i in re.findall(f\"[\\w\\d]+.(?:zip|pdf|csv)<\", converte_leitura_url) if i.startswith(nome_arquivo)]\n",
    "    #urls = [f'{url}{i}.zip' for i in re.findall(f'href=\"(.*?).{extensao}', converte_leitura_url) if i.startswith(nome_arquivo)]\n",
    "    urls = [ f\"{url}{i}.{extensao}\" for i in re.findall(f'href=\"(.*).(?:{extensao})\"', converte_leitura_url) if i.startswith(nome_arquivo)]\n",
    "    \n",
    "    return urls\n",
    "def download(url:str=None, salvar_onde:str= './' ):\n",
    "    \"\"\"\n",
    "\n",
    "    Args:\n",
    "        url (str): URL de do arquivo para download.\n",
    "        salvar_onde (str): Pasta de destino do arquivo baixado.\n",
    "    \"\"\"\n",
    "    from pySmartDL import SmartDL\n",
    "    obj = SmartDL(url, salvar_onde)\n",
    "    obj.start()\n",
    "    path = obj.get_dest()"
   ]
  },
  {
   "cell_type": "code",
   "execution_count": null,
   "metadata": {
    "tags": []
   },
   "outputs": [],
   "source": [
    "links = [\"https://dadosabertos.rfb.gov.br/CNPJ/\", \"http://200.152.38.155/CNPJ/\"]\n",
    "src = request(links[1])\n",
    "src"
   ]
  },
  {
   "cell_type": "code",
   "execution_count": null,
   "metadata": {},
   "outputs": [],
   "source": [
    "class EXTRATOR_CNPJ: \n",
    "    def __init__(self, url:str = None,nome_arquivo:str = '', extensao:str='zip', salvar_onde:str= './'): \n",
    "        self.url = url \n",
    "        self.nome_arquivo = nome_arquivo.capitalize() \n",
    "        self.extensao = extensao \n",
    "        self.salvar_onde = salvar_onde\n",
    "\n",
    "    def request(self, salvar_onde:str = './'):\n",
    "        import re\n",
    "        import urllib.request\n",
    "        abre_url = urllib.request.urlopen(self.url)\n",
    "        le_url = abre_url.read()\n",
    "        converte_leitura_url = le_url.decode(\"utf8\")\n",
    "        abre_url.close()\n",
    "        retorno = {\"urls\" : [], \"arquivos\": []}\n",
    "\n",
    "        retorno['urls'] = [ f\"{self.url}{i}.{self.extensao}\" for i in re.findall(f'href=\"(.*).(?:{self.extensao})\"', converte_leitura_url) if i.startswith(self.nome_arquivo)]\n",
    "        retorno['arquivos'] = [f\"{salvar_onde}{i}.{self.extensao}\" for i in re.findall(f'href=\"(.*).(?:{self.extensao})\"', converte_leitura_url) if i.startswith(self.nome_arquivo)]\n",
    "        return retorno\n",
    "\n",
    "    def download(self, url:str=None, salvar_onde:str= None):\n",
    "        from pySmartDL import SmartDL\n",
    "        obj = SmartDL(url, salvar_onde)\n",
    "        obj.start()\n",
    "        path = obj.get_dest()\n",
    "\n",
    "    def run(self):\n",
    "        lista_download  = self.request(salvar_onde=self.salvar_onde)\n",
    "        for url, arquivo in zip(lista_download['urls'], lista_download['arquivos']):\n",
    "            self.download(url, arquivo)\n"
   ]
  },
  {
   "cell_type": "code",
   "execution_count": null,
   "metadata": {},
   "outputs": [],
   "source": [
    "EC = EXTRATOR_CNPJ(url='https://dadosabertos.rfb.gov.br/CNPJ/?C=M;O=D', nome_arquivo='Simples', extensao='zip', salvar_onde='./RAW/')\n",
    "EC.run()"
   ]
  },
  {
   "cell_type": "code",
   "execution_count": null,
   "metadata": {},
   "outputs": [],
   "source": [
    "import requests\n",
    "import zipfile\n",
    "from io import BytesIO\n",
    "from pyspark.sql import SparkSession\n",
    "\n",
    "spark = SparkSession.builder.master(\"local[2]\") \\\n",
    "    .appName(\"OnlineReader\") \\\n",
    "    .getOrCreate()\n",
    "\n"
   ]
  },
  {
   "cell_type": "code",
   "execution_count": 2,
   "metadata": {},
   "outputs": [],
   "source": [
    "url = 'https://dadosabertos.rfb.gov.br/CNPJ/Simples.zip'\n",
    "response = requests.get(url)\n"
   ]
  },
  {
   "cell_type": "code",
   "execution_count": 3,
   "metadata": {},
   "outputs": [],
   "source": [
    "zip_file = zipfile.ZipFile(BytesIO(response.content))\n"
   ]
  },
  {
   "cell_type": "code",
   "execution_count": 4,
   "metadata": {},
   "outputs": [],
   "source": [
    "csv_file = zip_file.open(zip_file.namelist()[0])\n"
   ]
  },
  {
   "cell_type": "code",
   "execution_count": 5,
   "metadata": {},
   "outputs": [],
   "source": [
    "data = csv_file.read().decode('utf-8')\n"
   ]
  },
  {
   "cell_type": "code",
   "execution_count": null,
   "metadata": {},
   "outputs": [],
   "source": [
    "\n",
    "df = spark.read.option(\"header\", \"true\").csv(data)\n"
   ]
  },
  {
   "cell_type": "code",
   "execution_count": null,
   "metadata": {},
   "outputs": [],
   "source": [
    "df.show(1, vertical=True)"
   ]
  }
 ],
 "metadata": {
  "kernelspec": {
   "display_name": "Python 3 (ipykernel)",
   "language": "python",
   "name": "python3"
  },
  "language_info": {
   "codemirror_mode": {
    "name": "ipython",
    "version": 3
   },
   "file_extension": ".py",
   "mimetype": "text/x-python",
   "name": "python",
   "nbconvert_exporter": "python",
   "pygments_lexer": "ipython3",
   "version": "3.9.13"
  },
  "widgets": {
   "application/vnd.jupyter.widget-state+json": {
    "state": {},
    "version_major": 2,
    "version_minor": 0
   }
  }
 },
 "nbformat": 4,
 "nbformat_minor": 4
}
