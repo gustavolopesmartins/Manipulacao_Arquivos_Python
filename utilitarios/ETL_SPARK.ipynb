{
 "cells": [
  {
   "cell_type": "code",
   "execution_count": 1,
   "metadata": {},
   "outputs": [],
   "source": [
    "from pyspark.sql import SparkSession\n",
    "import pandas as pd\n",
    "import os \n",
    "import logging\n",
    "import time\n",
    "spark = SparkSession.builder.master(\"local[4]\") \\\n",
    "    .appName(\"ETL_CNPJ\") \\\n",
    "    .getOrCreate()"
   ]
  },
  {
   "cell_type": "code",
   "execution_count": 2,
   "metadata": {},
   "outputs": [],
   "source": [
    "current_dir = os.getcwd()\n",
    "file_log = current_dir + r\"/logs/src.log\"\n",
    "\n",
    "# gerando log\n",
    "logging.basicConfig(level=logging.DEBUG, filename=file_log, format=\"%(asctime)s - %(levelname)s - %(message)s\")\n",
    "\n",
    "# Warnings: Possui uma série de funções e comandos para tratamento de mensagens de avisos e alertas do Python\n",
    "import warnings\n",
    "warnings.filterwarnings(\"ignore\")"
   ]
  },
  {
   "cell_type": "code",
   "execution_count": 3,
   "metadata": {},
   "outputs": [
    {
     "name": "stdout",
     "output_type": "stream",
     "text": [
      "-RECORD 0---------\n",
      " _c0  | 07396865  \n",
      " _c1  | 0001      \n",
      " _c2  | 68        \n",
      " _c3  | 1         \n",
      " _c4  | null      \n",
      " _c5  | 08        \n",
      " _c6  | 20170210  \n",
      " _c7  | 01        \n",
      " _c8  | null      \n",
      " _c9  | null      \n",
      " _c10 | 20050518  \n",
      " _c11 | 1412602   \n",
      " _c12 | 1411801   \n",
      " _c13 | RUA       \n",
      " _c14 | TUCANEIRA \n",
      " _c15 | 30        \n",
      " _c16 | null      \n",
      " _c17 | DOS LAGOS \n",
      " _c18 | 89136000  \n",
      " _c19 | SC        \n",
      " _c20 | 8297      \n",
      " _c21 | 47        \n",
      " _c22 | 33851125  \n",
      " _c23 | 47        \n",
      " _c24 | 33851125  \n",
      " _c25 | 47        \n",
      " _c26 | 33851125  \n",
      " _c27 | null      \n",
      " _c28 | null      \n",
      " _c29 | null      \n",
      "only showing top 1 row\n",
      "\n"
     ]
    }
   ],
   "source": [
    "BASE_ESTABELECIMENTOS = current_dir.replace(r\"GitHub\\ETL_CNPJ\\utilitarios\", r\"\\CNPJ_PROGRAMATICA\\ESTABELECIMENTOSCSV/\")\n",
    "ESTABELECIMENTOS = list(filter(lambda x: \".csv\" in x, os.listdir(BASE_ESTABELECIMENTOS)))\n",
    "dados = spark.read.options(delimiter = \";\", header=False).csv(f\"{BASE_ESTABELECIMENTOS}{ESTABELECIMENTOS[1]}\").limit(20)\n",
    "dados.show(1, vertical=True)"
   ]
  },
  {
   "cell_type": "code",
   "execution_count": 4,
   "metadata": {},
   "outputs": [],
   "source": [
    "# DEFINE O NOVO NOME DE CADA COLUNA\n",
    "NOVO_NOME_COLUNAS = {\n",
    "    \"_c0\" : \"CNPJ_BASE\", \n",
    "    \"_c1\" : \"CNPJ_ORDEM\", \n",
    "    \"_c2\" : \"CNPJ_DV\", \n",
    "    \"_c3\" : \"MATRIZ_FILIAL\", \n",
    "    \"_c4\" : \"NOME_FANTASIA\", \n",
    "    \"_c5\" : \"SITUACAO_CADASTRAL\", \n",
    "    \"_c6\" : \"DATA_SITUACAO_CADASTRAL\", \n",
    "    \"_c7\" : \"MOTIVO_SITUACAO_CADASTRAL\", \n",
    "    \"_c8\" : \"CIDADE_EXTERIOR\", \n",
    "    \"_c9\" : \"PAIS\", \n",
    "    \"_c10\" : \"DATA_INICIO_ATIVIDADE\", \n",
    "    \"_c11\" : \"CNAE_PRINCIPAL\", \n",
    "    \"_c12\" : \"CNAE_SECUNDARIO\", \n",
    "    \"_c13\" : \"TIPO_LOGRADOURO\", \n",
    "    \"_c14\" : \"LOGRADOURO\", \n",
    "    \"_c15\" : \"NUMERO\", \n",
    "    \"_c16\" : \"COMPLEMENTO\", \n",
    "    \"_c17\" : \"BAIRRO\", \n",
    "    \"_c18\" : \"CEP\", \n",
    "    \"_c19\" : \"UF\", \n",
    "    \"_c20\" : \"MUNICIPIO\", \n",
    "    \"_c21\" : \"DDD1\", \n",
    "    \"_c22\" : \"TELEFONE1\", \n",
    "    \"_c23\" : \"DDD2\", \n",
    "    \"_c24\" : \"TELEFONE2\", \n",
    "    \"_c25\" : \"DDD_FAX\", \n",
    "    \"_c26\" : \"FAX\", \n",
    "    \"_c27\" : \"EMAIL\", \n",
    "    \"_c28\" : \"SITUACAO_ESPECIAL\", \n",
    "    \"_c29\" : \"DATA_SITUACAO_ESPECIAL\"\n",
    "    }\n",
    "# DEFINE QUAIS COLUNAS QUEREMOS MANTER E QUAIS QUEREMOS DESCARTAR\n",
    "COLUNAS_A_MANTER = ['CNPJ_BASE', 'CNPJ_ORDEM' , 'CNPJ_DV' , 'MATRIZ_FILIAL'  , 'NOME_FANTASIA' , 'SITUACAO_CADASTRAL' ,\n",
    "              'DATA_SITUACAO_CADASTRAL'  , 'MOTIVO_SITUACAO_CADASTRAL'  , 'DATA_INICIO_ATIVIDADE'  ,\n",
    "              'CNAE_PRINCIPAL'  , 'CNAE_SECUNDARIO' , 'TIPO_LOGRADOURO'  , 'LOGRADOURO'  , 'NUMERO'  , 'COMPLEMENTO' ,\n",
    "              'BAIRRO'  , 'CEP'  , 'UF'  , 'MUNICIPIO'  , 'DDD1'  , 'TELEFONE1'  , 'DDD2'  , 'TELEFONE2'  ,\n",
    "              'DDD_FAX'  , 'FAX'  , 'EMAIL']\n"
   ]
  },
  {
   "cell_type": "code",
   "execution_count": 5,
   "metadata": {},
   "outputs": [
    {
     "name": "stdout",
     "output_type": "stream",
     "text": [
      "-RECORD 0------------------------------\n",
      " CNPJ_BASE                 | 07396865  \n",
      " CNPJ_ORDEM                | 0001      \n",
      " CNPJ_DV                   | 68        \n",
      " MATRIZ_FILIAL             | 1         \n",
      " NOME_FANTASIA             | null      \n",
      " SITUACAO_CADASTRAL        | 08        \n",
      " DATA_SITUACAO_CADASTRAL   | 20170210  \n",
      " MOTIVO_SITUACAO_CADASTRAL | 01        \n",
      " DATA_INICIO_ATIVIDADE     | 20050518  \n",
      " CNAE_PRINCIPAL            | 1412602   \n",
      " CNAE_SECUNDARIO           | 1411801   \n",
      " TIPO_LOGRADOURO           | RUA       \n",
      " LOGRADOURO                | TUCANEIRA \n",
      " NUMERO                    | 30        \n",
      " COMPLEMENTO               | null      \n",
      " BAIRRO                    | DOS LAGOS \n",
      " CEP                       | 89136000  \n",
      " UF                        | SC        \n",
      " MUNICIPIO                 | 8297      \n",
      " DDD1                      | 47        \n",
      " TELEFONE1                 | 33851125  \n",
      " DDD2                      | 47        \n",
      " TELEFONE2                 | 33851125  \n",
      " DDD_FAX                   | 47        \n",
      " FAX                       | 33851125  \n",
      " EMAIL                     | null      \n",
      "only showing top 1 row\n",
      "\n"
     ]
    }
   ],
   "source": [
    "# USA O MÉTODO WITHCOLUMNRENAMED() PARA RENOMEAR AS COLUNAS\n",
    "for NOME_ANTIGO, NOVO_NOME in NOVO_NOME_COLUNAS.items():\n",
    "    dados = dados.withColumnRenamed(NOME_ANTIGO, NOVO_NOME)\n",
    "\n",
    "# USA OS MÉTODOS SELECT() E DROP() PARA DESCARTAR AS COLUNAS QUE NÃO PRECISAMOS\n",
    "dados = dados.select(COLUNAS_A_MANTER)\n",
    "\n",
    "# MOSTRA O RESULTADO FINAL COM AS COLUNAS RENOMEADAS E DESCARTADAS\n",
    "dados.show(1, vertical=True)\n"
   ]
  },
  {
   "cell_type": "code",
   "execution_count": 6,
   "metadata": {},
   "outputs": [
    {
     "name": "stdout",
     "output_type": "stream",
     "text": [
      "+---------+----------+-------+-------------+--------------------+------------------+-----------------------+-------------------------+---------------------+--------------+--------------------+---------------+--------------------+------+--------------------+------------------+--------+---+---------+----+---------+----+---------+-------+--------+--------------------+\n",
      "|CNPJ_BASE|CNPJ_ORDEM|CNPJ_DV|MATRIZ_FILIAL|       NOME_FANTASIA|SITUACAO_CADASTRAL|DATA_SITUACAO_CADASTRAL|MOTIVO_SITUACAO_CADASTRAL|DATA_INICIO_ATIVIDADE|CNAE_PRINCIPAL|     CNAE_SECUNDARIO|TIPO_LOGRADOURO|          LOGRADOURO|NUMERO|         COMPLEMENTO|            BAIRRO|     CEP| UF|MUNICIPIO|DDD1|TELEFONE1|DDD2|TELEFONE2|DDD_FAX|     FAX|               EMAIL|\n",
      "+---------+----------+-------+-------------+--------------------+------------------+-----------------------+-------------------------+---------------------+--------------+--------------------+---------------+--------------------+------+--------------------+------------------+--------+---+---------+----+---------+----+---------+-------+--------+--------------------+\n",
      "| 07396865|      0001|     68|            1|                null|                08|               20170210|                       01|             20050518|       1412602|             1411801|            RUA|           TUCANEIRA|    30|                null|         DOS LAGOS|89136000| SC|     8297|  47| 33851125|  47| 33851125|     47|33851125|                null|\n",
      "| 64904295|      0018|     51|            2|                null|                08|               20161110|                       01|             20050429|       4639701|             4637199|        AVENIDA|      MENINO MARCELO| 8551B|LOTE  2          ...|          SERRARIA|57046000| AL|     2785|  11| 36491000|  31| 33880436|     82|33118379|CLAUDIO.GIGLIO@CA...|\n",
      "| 76016369|      0003|     16|            2|                null|                03|               20060203|                       21|             19851212|       4632001|                null|            RUA|         DO COMERCIO|    55|      SALA 7 GALERIA|            CENTRO|11010141| SP|     7071|null|     null|null|     null|   null|    null|                null|\n",
      "| 52302726|      0001|     82|            1|                null|                04|               20210406|                       63|             19830223|       4712100|                null|            RUA|   GREGORIO LUCHIARI|   496|                null|          SAO VITO|13472080| SP|     6131|null|     null|null|     null|   null|    null|                null|\n",
      "| 07396923|      0001|     53|            1|                null|                08|               20140115|                       01|             20050516|       4721102|                null|            RUA|            DA MOOCA|  3336|                null|             MOOCA|03165000| SP|     7107| 011| 69658088|null|     null|   null|    null|                null|\n",
      "| 03650261|      0001|     45|            1|     OTICA PERFEICAO|                04|               20190322|                       63|             19991217|       4783101|             4783102|            RUA|PREFEITO JOAO ORE...|   541|             LOJA 03|            CENTRO|88495000| SC|     8113| 048|  2423953|null|     null|    048| 2423953|                null|\n",
      "| 07396929|      0001|     20|            1|                null|                03|               20111107|                       21|             20050504|       6201501|             6204000|            RUA|   FLORIANO PEIXOTO,|    85|                null|       SANTA PAULA|09541350| SP|     7077|  11| 32281722|null|     null|     11|32281722|                null|\n",
      "| 25040718|      0001|     32|            1|     COOCULTURA LTDA|                08|               20050523|                       01|             19910823|       6424701|                null|            RUA|ROSULINO FERREIRA...|   767|                null|            CENTRO|75902261| GO|     9571|null|     null|null|     null|   null|    null|                null|\n",
      "| 07396936|      0001|     22|            1|                null|                08|               20051219|                       01|             20050525|       4511102|                null|        AVENIDA|        DOM PEDRO II|  1748|                null|     CARLOS PRATES|30710010| MG|     4123|null|     null|null|     null|   null|    null|                null|\n",
      "| 07396943|      0001|     24|            1|        MEGA TELECOM|                08|               20170217|                       01|             20050524|       4752100|             9512600|        AVENIDA|              PARANA|   465|                null|            CENTRO|83800000| PR|     7679|null|     null|null|     null|   null|    null|                null|\n",
      "| 05916377|      0001|     09|            1|ROCHA PECAS & SER...|                04|               20181121|                       63|             20030930|       4530704|     4930202,4520001|        AVENIDA|SENADOR RUI PALMEIRA|    26|                null|            LEVADA|57017175| AL|     2785|  82| 32232804|null|     null|   null|    null|contador_waldomir...|\n",
      "| 04138487|      0002|     05|            2|            BRENNY'S|                04|               20181025|                       63|             20020415|       4781400|                null|        RODOVIA|              BR-104|    SN|      KM 32, LOJA 76| PARQUE DAS FEIRAS|55125000| PE|     2607|null|     null|null|     null|   null|    null|                null|\n",
      "| 04208132|      0002|     45|            2|                null|                04|               20181010|                       63|             20040331|       9491000|                null|        AVENIDA|      GETULIO VARGAS|   283|  S, SL 11, ED Q.AVE|            CENTRO|89801001| SC|     8081|null|     null|null|     null|   null|    null|                null|\n",
      "| 05111469|      0001|     11|            1|                null|                02|               20051103|                       00|             20020614|       8299706|                null|        AVENIDA|         AFONSO PENA|   270|          QUIOSQUE 1|            MACUCO|11020001| SP|     7071|null|     null|null|     null|   null|    null|                null|\n",
      "| 05304262|      0001|     63|            1|                null|                08|               20070503|                       01|             20020919|       3102100|                null|            RUA|COMENDADOR JOSE A...|  1633|                null|         TAMANDARE|95720000| RS|     8669|null|     null|null|     null|   null|    null|                null|\n",
      "| 02418055|      0001|     41|            1| AUTO ELETRICA TITON|                08|               20160302|                       01|             19980311|       4520001|4520002,4520003,4...|            RUA|          JOAO ZARDO|   385|                null|          ALVORADA|89560000| SC|     8379|null|  5332758|null|     null|   null|    null|                null|\n",
      "| 04265986|      0001|     82|            1|                null|                02|               20001110|                       00|             20001110|       8112500|                null|            RUA|       GOES MONTEIRO|   500|                null|     SAO FRANCISCO|95700010| RS|     8541|null|     null|null|     null|   null|    null|                null|\n",
      "| 80636061|      0001|     89|            1|                null|                08|               20140929|                       01|             19920717|       9430800|     9493600,9499500|           VILA|         SANTA LUCIA|    SN|                null|       SANTA LUCIA|89887000| SC|     8237|null|     null|null|     null|   null|    null|                null|\n",
      "| 41409616|      0001|     06|            1| CONDOMINIO ANA MELO|                02|               19990904|                       00|             19920609|       8112500|                null|            RUA|           JOAO MELO|   729|                null|             DAMAS|60426055| CE|     1389|null|     null|null|     null|   null|    null|                null|\n",
      "| 07396996|      0001|     45|            1|SERRARIA SANTA JULIA|                08|               20150209|                       73|             20050525|       4671100|                null|           null|     IGARAPE GONZAGA|   S/N|                null|RETIRO SANTA JULIA|68976000| AP|     0669|  96|  2229139|null|     null|     96| 2239808|ad.controle@tvsom...|\n",
      "+---------+----------+-------+-------------+--------------------+------------------+-----------------------+-------------------------+---------------------+--------------+--------------------+---------------+--------------------+------+--------------------+------------------+--------+---+---------+----+---------+----+---------+-------+--------+--------------------+\n",
      "\n"
     ]
    }
   ],
   "source": [
    "dados.show()"
   ]
  },
  {
   "cell_type": "code",
   "execution_count": 8,
   "metadata": {},
   "outputs": [
    {
     "data": {
      "text/plain": [
       "StructType([StructField('CNPJ_BASE', StringType(), True), StructField('CNPJ_ORDEM', StringType(), True), StructField('CNPJ_DV', StringType(), True), StructField('MATRIZ_FILIAL', StringType(), True), StructField('NOME_FANTASIA', StringType(), True), StructField('SITUACAO_CADASTRAL', StringType(), True), StructField('DATA_SITUACAO_CADASTRAL', StringType(), True), StructField('MOTIVO_SITUACAO_CADASTRAL', StringType(), True), StructField('DATA_INICIO_ATIVIDADE', StringType(), True), StructField('CNAE_PRINCIPAL', StringType(), True), StructField('CNAE_SECUNDARIO', StringType(), True), StructField('TIPO_LOGRADOURO', StringType(), True), StructField('LOGRADOURO', StringType(), True), StructField('NUMERO', StringType(), True), StructField('COMPLEMENTO', StringType(), True), StructField('BAIRRO', StringType(), True), StructField('CEP', StringType(), True), StructField('UF', StringType(), True), StructField('MUNICIPIO', StringType(), True), StructField('DDD1', StringType(), True), StructField('TELEFONE1', StringType(), True), StructField('DDD2', StringType(), True), StructField('TELEFONE2', StringType(), True), StructField('DDD_FAX', StringType(), True), StructField('FAX', StringType(), True), StructField('EMAIL', StringType(), True)])"
      ]
     },
     "execution_count": 8,
     "metadata": {},
     "output_type": "execute_result"
    }
   ],
   "source": [
    "dados.schema"
   ]
  }
 ],
 "metadata": {
  "kernelspec": {
   "display_name": ".virtual",
   "language": "python",
   "name": "python3"
  },
  "language_info": {
   "codemirror_mode": {
    "name": "ipython",
    "version": 3
   },
   "file_extension": ".py",
   "mimetype": "text/x-python",
   "name": "python",
   "nbconvert_exporter": "python",
   "pygments_lexer": "ipython3",
   "version": "3.9.10"
  },
  "orig_nbformat": 4
 },
 "nbformat": 4,
 "nbformat_minor": 2
}
