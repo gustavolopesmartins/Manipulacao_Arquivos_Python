{
 "cells": [
  {
   "cell_type": "markdown",
   "metadata": {},
   "source": [
    "### Lendo todos os arquivos csv do diretório e guardar em um objeto\n",
    "\n",
    "```python\n",
    "\n",
    "    Primeiramente vamos ler todos arquivos xlsx que estão presentes em um diretório cujo nome. \n",
    "    Então, criamos uma função anônima (lambda) para varrer todos os arquivos xlsx e restringimos a nossa condição de busca ao \n",
    "```"
   ]
  },
  {
   "cell_type": "code",
   "execution_count": 1,
   "metadata": {},
   "outputs": [],
   "source": [
    "# ler todos os arquivos csv do diretório e guardar em um objeto\n",
    "import os\n",
    "import pandas as pd\n",
    "\n",
    "diretorio = r'C:\\Users\\ABRASEL NACIONAL\\Documents\\CNPJ_PROGRAMATICA\\ESTABELECIMENTOSCSV/'\n",
    "all_files = list(filter(lambda x: '.csv' in x, os.listdir(diretorio)))\n",
    "\n",
    "#Warnings: Possui uma série de funções e comandos para tratamento de mensagens de avisos e alertas do Python\n",
    "import warnings\n",
    "warnings.filterwarnings(\"ignore\")\n",
    "\n",
    "#Comando para exibir todas colunas do arquivo\n",
    "pd.set_option('display.max_columns', None)\n",
    "pd.set_option('display.max_rows', None)"
   ]
  },
  {
   "cell_type": "markdown",
   "metadata": {},
   "source": [
    "### Realizando a leitura para cada arquivo\n",
    "```python\n",
    "        Podemos fazer a leitura de todos os arquivos presentes no diretório criando uma lista vazia (full_dataset) e utilizamos um loop para fazer a leitura de cada arquivo e, assim preenchermos a lista utilizando o método append.\n",
    "```"
   ]
  },
  {
   "cell_type": "code",
   "execution_count": 2,
   "metadata": {},
   "outputs": [],
   "source": [
    "\n",
    "CNPJ = {\"EMPRE\" : ['CNPJ_BASE', 'RAZAO_SOCIAL', 'NATUREZA_JURIDICA' , 'QUALIFICACAO' ,\n",
    "          'VALOR_CAPITAL_SOCIAL' , 'PORTE_EMPRESA'  , 'ENTE_FEDERATIVO'],\n",
    "\n",
    "\"ESTABELE\" : ['CNPJ_BASE', 'CNPJ_ORDEM' , 'CNPJ_DV' , 'MATRIZ_FILIAL'  , 'NOME_FANTASIA' , 'SITUACAO_CADASTRAL' ,\n",
    "              'DATA_SITUACAO_CADASTRAL'  , 'MOTIVO_SITUACAO_CADASTRAL'  , 'CIDADE_EXTERIOR'  , 'PAIS'  , 'DATA_INICIO_ATIVIDADE'  ,\n",
    "              'CNAE_PRINCIPAL'  , 'CNAE_SECUNDARIO' , 'TIPO_LOGRADOURO'  , 'LOGRADOURO'  , 'NUMERO'  , 'COMPLEMENTO' ,\n",
    "              'BAIRRO'  , 'CEP'  , 'UF'  , 'MUNICIPIO'  , 'DDD1'  , 'TELEFONE1'  , 'DDD2'  , 'TELEFONE2'  ,\n",
    "              'DDD_FAX'  , 'FAX'  , 'EMAIL'  , 'SITUACAO_ESPECIAL'  , 'DATA_SITUACAO_ESPECIAL'],  \n",
    "\n",
    "\"SIMPLES\" : ['CNPJ_BASE'  , 'OPCAO_SIMPLES'  , 'DATA_OPCAO_SIMPLES'  , 'DATA_EXCLUSAO_SIMPLES'  ,\n",
    "             'OPCAO_MEI'  , 'DATA_OPCAO_MEI'  , 'DATA_EXCLUSAO_MEI'],\n",
    "\n",
    "\"SOCIO\" : ['CNPJ_BASE'  , 'TIPO'  , 'NOME'  , 'CPF_CNPJ'  , 'QUALIFICACAO'  , 'DATA_ENTRADA' ,\n",
    "            'PAIS' , 'REPRESENTANTE'  , 'NOME_REPRESENTANTE'  , 'QUALIFICACAO_REPRESENTANTE'  , 'FAIXA_ETARIA'  ],\n",
    "\n",
    "\"PAIS\" : ['CODIGO_PAIS' , 'PAIS'],\n",
    "\n",
    "\"MUNIC\" : ['MUNICIPIO'  , 'MUNICIPIO'  ],\n",
    "\n",
    "\"QUALS\" : ['QUALIFICACAO', 'QUALIFICACAO' ],\n",
    "\n",
    "\"NATJU\" : ['NATUREZA_JURIDICA'  , 'NATUREZA_JURIDICA'],\n",
    "\n",
    "\"MOTI\" : ['MOTIVO_SITUACAO_CADASTRAL'  , 'MOTIVO_SITUACAO_CADASTRAL'  ],\n",
    "\n",
    "\"CNAE\" : ['CODIGO_CNAE'  , 'CNAE' ]}\n"
   ]
  },
  {
   "cell_type": "code",
   "execution_count": 3,
   "metadata": {},
   "outputs": [
    {
     "name": "stdout",
     "output_type": "stream",
     "text": [
      "Não dá pra descompactar o arquivo Estabelecimentos1.zip, está corrompido.\n",
      "Não dá pra descompactar o arquivo Estabelecimentos5.zip, está corrompido.\n"
     ]
    }
   ],
   "source": [
    "from descompactador import descompactador\n",
    "from convertearquivo import convertearquivo\n",
    "\n",
    "descompactador(r'./ESTABELECIMENTOSZIP/', r'./ESTABELECIMENTOSCSV')\n",
    "convertearquivo(r'./ESTABELECIMENTOSCSV/', 'ESTABELE','csv')"
   ]
  },
  {
   "cell_type": "code",
   "execution_count": 3,
   "metadata": {},
   "outputs": [
    {
     "data": {
      "text/html": [
       "<div>\n",
       "<style scoped>\n",
       "    .dataframe tbody tr th:only-of-type {\n",
       "        vertical-align: middle;\n",
       "    }\n",
       "\n",
       "    .dataframe tbody tr th {\n",
       "        vertical-align: top;\n",
       "    }\n",
       "\n",
       "    .dataframe thead th {\n",
       "        text-align: right;\n",
       "    }\n",
       "</style>\n",
       "<table border=\"1\" class=\"dataframe\">\n",
       "  <thead>\n",
       "    <tr style=\"text-align: right;\">\n",
       "      <th></th>\n",
       "      <th>CNPJ_ORDEM</th>\n",
       "      <th>CNPJ_DV</th>\n",
       "      <th>MATRIZ_FILIAL</th>\n",
       "      <th>NOME_FANTASIA</th>\n",
       "      <th>SITUACAO_CADASTRAL</th>\n",
       "      <th>DATA_SITUACAO_CADASTRAL</th>\n",
       "      <th>MOTIVO_SITUACAO_CADASTRAL</th>\n",
       "      <th>CIDADE_EXTERIOR</th>\n",
       "      <th>PAIS</th>\n",
       "      <th>DATA_INICIO_ATIVIDADE</th>\n",
       "      <th>CNAE_PRINCIPAL</th>\n",
       "      <th>CNAE_SECUNDARIO</th>\n",
       "      <th>TIPO_LOGRADOURO</th>\n",
       "      <th>LOGRADOURO</th>\n",
       "      <th>NUMERO</th>\n",
       "      <th>COMPLEMENTO</th>\n",
       "      <th>BAIRRO</th>\n",
       "      <th>CEP</th>\n",
       "      <th>UF</th>\n",
       "      <th>MUNICIPIO</th>\n",
       "      <th>DDD1</th>\n",
       "      <th>TELEFONE1</th>\n",
       "      <th>DDD2</th>\n",
       "      <th>TELEFONE2</th>\n",
       "      <th>DDD_FAX</th>\n",
       "      <th>FAX</th>\n",
       "      <th>EMAIL</th>\n",
       "      <th>SITUACAO_ESPECIAL</th>\n",
       "      <th>DATA_SITUACAO_ESPECIAL</th>\n",
       "    </tr>\n",
       "    <tr>\n",
       "      <th>CNPJ_BASE</th>\n",
       "      <th></th>\n",
       "      <th></th>\n",
       "      <th></th>\n",
       "      <th></th>\n",
       "      <th></th>\n",
       "      <th></th>\n",
       "      <th></th>\n",
       "      <th></th>\n",
       "      <th></th>\n",
       "      <th></th>\n",
       "      <th></th>\n",
       "      <th></th>\n",
       "      <th></th>\n",
       "      <th></th>\n",
       "      <th></th>\n",
       "      <th></th>\n",
       "      <th></th>\n",
       "      <th></th>\n",
       "      <th></th>\n",
       "      <th></th>\n",
       "      <th></th>\n",
       "      <th></th>\n",
       "      <th></th>\n",
       "      <th></th>\n",
       "      <th></th>\n",
       "      <th></th>\n",
       "      <th></th>\n",
       "      <th></th>\n",
       "      <th></th>\n",
       "    </tr>\n",
       "  </thead>\n",
       "  <tbody>\n",
       "    <tr>\n",
       "      <th>39222117</th>\n",
       "      <td>1</td>\n",
       "      <td>55</td>\n",
       "      <td>1</td>\n",
       "      <td>NaN</td>\n",
       "      <td>8</td>\n",
       "      <td>20210228</td>\n",
       "      <td>1</td>\n",
       "      <td>NaN</td>\n",
       "      <td>NaN</td>\n",
       "      <td>20200928</td>\n",
       "      <td>9492800</td>\n",
       "      <td>NaN</td>\n",
       "      <td>RUA</td>\n",
       "      <td>RUA AMERICO BORTOLETTO</td>\n",
       "      <td>66</td>\n",
       "      <td>CASA</td>\n",
       "      <td>SAO LUCAS</td>\n",
       "      <td>83750000</td>\n",
       "      <td>PR</td>\n",
       "      <td>7657</td>\n",
       "      <td>0</td>\n",
       "      <td>0</td>\n",
       "      <td>NaN</td>\n",
       "      <td>NaN</td>\n",
       "      <td>0.0</td>\n",
       "      <td>0</td>\n",
       "      <td>jzcans@hotmail.com</td>\n",
       "      <td>NaN</td>\n",
       "      <td>NaN</td>\n",
       "    </tr>\n",
       "  </tbody>\n",
       "</table>\n",
       "</div>"
      ],
      "text/plain": [
       "           CNPJ_ORDEM  CNPJ_DV  MATRIZ_FILIAL NOME_FANTASIA  \\\n",
       "CNPJ_BASE                                                     \n",
       "39222117            1       55              1           NaN   \n",
       "\n",
       "           SITUACAO_CADASTRAL  DATA_SITUACAO_CADASTRAL  \\\n",
       "CNPJ_BASE                                                \n",
       "39222117                    8                 20210228   \n",
       "\n",
       "           MOTIVO_SITUACAO_CADASTRAL CIDADE_EXTERIOR  PAIS  \\\n",
       "CNPJ_BASE                                                    \n",
       "39222117                           1             NaN   NaN   \n",
       "\n",
       "           DATA_INICIO_ATIVIDADE  CNAE_PRINCIPAL CNAE_SECUNDARIO  \\\n",
       "CNPJ_BASE                                                          \n",
       "39222117                20200928         9492800             NaN   \n",
       "\n",
       "          TIPO_LOGRADOURO              LOGRADOURO NUMERO COMPLEMENTO  \\\n",
       "CNPJ_BASE                                                              \n",
       "39222117              RUA  RUA AMERICO BORTOLETTO     66        CASA   \n",
       "\n",
       "              BAIRRO       CEP  UF  MUNICIPIO DDD1 TELEFONE1  DDD2 TELEFONE2  \\\n",
       "CNPJ_BASE                                                                      \n",
       "39222117   SAO LUCAS  83750000  PR       7657    0         0   NaN       NaN   \n",
       "\n",
       "           DDD_FAX FAX               EMAIL SITUACAO_ESPECIAL  \\\n",
       "CNPJ_BASE                                                      \n",
       "39222117       0.0   0  jzcans@hotmail.com               NaN   \n",
       "\n",
       "           DATA_SITUACAO_ESPECIAL  \n",
       "CNPJ_BASE                          \n",
       "39222117                      NaN  "
      ]
     },
     "execution_count": 3,
     "metadata": {},
     "output_type": "execute_result"
    }
   ],
   "source": [
    "dados = pd.read_csv(f'{diretorio}/{all_files[0]}',sep=';',encoding='ISO-8859-1', names=CNPJ['ESTABELE'],low_memory=False, index_col=0)\n",
    "dados.head(1)"
   ]
  },
  {
   "cell_type": "code",
   "execution_count": null,
   "metadata": {},
   "outputs": [],
   "source": [
    "dados.shape"
   ]
  },
  {
   "cell_type": "code",
   "execution_count": 8,
   "metadata": {},
   "outputs": [
    {
     "data": {
      "text/html": [
       "<div>\n",
       "<style scoped>\n",
       "    .dataframe tbody tr th:only-of-type {\n",
       "        vertical-align: middle;\n",
       "    }\n",
       "\n",
       "    .dataframe tbody tr th {\n",
       "        vertical-align: top;\n",
       "    }\n",
       "\n",
       "    .dataframe thead th {\n",
       "        text-align: right;\n",
       "    }\n",
       "</style>\n",
       "<table border=\"1\" class=\"dataframe\">\n",
       "  <thead>\n",
       "    <tr style=\"text-align: right;\">\n",
       "      <th></th>\n",
       "      <th>CNPJ_ORDEM</th>\n",
       "      <th>CNPJ_DV</th>\n",
       "      <th>MATRIZ_FILIAL</th>\n",
       "      <th>NOME_FANTASIA</th>\n",
       "      <th>SITUACAO_CADASTRAL</th>\n",
       "      <th>DATA_SITUACAO_CADASTRAL</th>\n",
       "      <th>MOTIVO_SITUACAO_CADASTRAL</th>\n",
       "      <th>CIDADE_EXTERIOR</th>\n",
       "      <th>PAIS</th>\n",
       "      <th>DATA_INICIO_ATIVIDADE</th>\n",
       "      <th>CNAE_PRINCIPAL</th>\n",
       "      <th>CNAE_SECUNDARIO</th>\n",
       "      <th>TIPO_LOGRADOURO</th>\n",
       "      <th>LOGRADOURO</th>\n",
       "      <th>NUMERO</th>\n",
       "      <th>COMPLEMENTO</th>\n",
       "      <th>BAIRRO</th>\n",
       "      <th>CEP</th>\n",
       "      <th>UF</th>\n",
       "      <th>MUNICIPIO</th>\n",
       "      <th>DDD1</th>\n",
       "      <th>TELEFONE1</th>\n",
       "      <th>DDD2</th>\n",
       "      <th>TELEFONE2</th>\n",
       "      <th>DDD_FAX</th>\n",
       "      <th>FAX</th>\n",
       "      <th>EMAIL</th>\n",
       "      <th>SITUACAO_ESPECIAL</th>\n",
       "      <th>DATA_SITUACAO_ESPECIAL</th>\n",
       "    </tr>\n",
       "    <tr>\n",
       "      <th>CNPJ_BASE</th>\n",
       "      <th></th>\n",
       "      <th></th>\n",
       "      <th></th>\n",
       "      <th></th>\n",
       "      <th></th>\n",
       "      <th></th>\n",
       "      <th></th>\n",
       "      <th></th>\n",
       "      <th></th>\n",
       "      <th></th>\n",
       "      <th></th>\n",
       "      <th></th>\n",
       "      <th></th>\n",
       "      <th></th>\n",
       "      <th></th>\n",
       "      <th></th>\n",
       "      <th></th>\n",
       "      <th></th>\n",
       "      <th></th>\n",
       "      <th></th>\n",
       "      <th></th>\n",
       "      <th></th>\n",
       "      <th></th>\n",
       "      <th></th>\n",
       "      <th></th>\n",
       "      <th></th>\n",
       "      <th></th>\n",
       "      <th></th>\n",
       "      <th></th>\n",
       "    </tr>\n",
       "  </thead>\n",
       "  <tbody>\n",
       "    <tr>\n",
       "      <th>39222737</th>\n",
       "      <td>1</td>\n",
       "      <td>94</td>\n",
       "      <td>1</td>\n",
       "      <td>NaN</td>\n",
       "      <td>8</td>\n",
       "      <td>20210228</td>\n",
       "      <td>1</td>\n",
       "      <td>NaN</td>\n",
       "      <td>NaN</td>\n",
       "      <td>20200928</td>\n",
       "      <td>9492800</td>\n",
       "      <td>NaN</td>\n",
       "      <td>RUA</td>\n",
       "      <td>SANTA ARTUZI ROSSINI</td>\n",
       "      <td>16</td>\n",
       "      <td>CASA</td>\n",
       "      <td>COHAB</td>\n",
       "      <td>15690000</td>\n",
       "      <td>SP</td>\n",
       "      <td>6515</td>\n",
       "      <td>0</td>\n",
       "      <td>0</td>\n",
       "      <td>NaN</td>\n",
       "      <td>NaN</td>\n",
       "      <td>0</td>\n",
       "      <td>0</td>\n",
       "      <td>buenoesouzaeleitoral@gmail.com</td>\n",
       "      <td>NaN</td>\n",
       "      <td>NaN</td>\n",
       "    </tr>\n",
       "  </tbody>\n",
       "</table>\n",
       "</div>"
      ],
      "text/plain": [
       "           CNPJ_ORDEM  CNPJ_DV  MATRIZ_FILIAL  NOME_FANTASIA  \\\n",
       "CNPJ_BASE                                                      \n",
       "39222737            1       94              1            NaN   \n",
       "\n",
       "           SITUACAO_CADASTRAL  DATA_SITUACAO_CADASTRAL  \\\n",
       "CNPJ_BASE                                                \n",
       "39222737                    8                 20210228   \n",
       "\n",
       "           MOTIVO_SITUACAO_CADASTRAL  CIDADE_EXTERIOR  PAIS  \\\n",
       "CNPJ_BASE                                                     \n",
       "39222737                           1              NaN   NaN   \n",
       "\n",
       "           DATA_INICIO_ATIVIDADE  CNAE_PRINCIPAL  CNAE_SECUNDARIO  \\\n",
       "CNPJ_BASE                                                           \n",
       "39222737                20200928         9492800              NaN   \n",
       "\n",
       "          TIPO_LOGRADOURO            LOGRADOURO NUMERO COMPLEMENTO BAIRRO  \\\n",
       "CNPJ_BASE                                                                   \n",
       "39222737              RUA  SANTA ARTUZI ROSSINI     16        CASA  COHAB   \n",
       "\n",
       "                CEP  UF  MUNICIPIO  DDD1  TELEFONE1  DDD2  TELEFONE2  DDD_FAX  \\\n",
       "CNPJ_BASE                                                                       \n",
       "39222737   15690000  SP       6515     0          0   NaN        NaN        0   \n",
       "\n",
       "           FAX                           EMAIL  SITUACAO_ESPECIAL  \\\n",
       "CNPJ_BASE                                                           \n",
       "39222737     0  buenoesouzaeleitoral@gmail.com                NaN   \n",
       "\n",
       "           DATA_SITUACAO_ESPECIAL  \n",
       "CNPJ_BASE                          \n",
       "39222737                      NaN  "
      ]
     },
     "execution_count": 8,
     "metadata": {},
     "output_type": "execute_result"
    }
   ],
   "source": [
    "dados.tail(1)"
   ]
  },
  {
   "cell_type": "markdown",
   "metadata": {},
   "source": [
    "```python\n",
    "        5611201, -- Restaurantes e similares\n",
    "        5611203, -- Lanchonetes casas de chá de sucos e similares\n",
    "        5611204, -- Bares e outros estabelecimentos especializados em servir bebidas sem entretenimento\n",
    "        5611205 -- Bares e outros estabelecimentos especializados em servir bebidas com entretenimento\n",
    "```"
   ]
  },
  {
   "cell_type": "code",
   "execution_count": 4,
   "metadata": {},
   "outputs": [],
   "source": [
    "CNAES = {5611201:'Restaurantes e similares',\n",
    "        5611203:'Lanchonetes casas de chá de sucos e similares',\n",
    "        5611204:'Bares e outros estabelecimentos especializados em servir bebidas sem entretenimento',\n",
    "        5611205:'Bares e outros estabelecimentos especializados em servir bebidas com entretenimento'}\n",
    "\n",
    "lista_cnae = []\n",
    "for cnae in CNAES.keys():\n",
    "    lista_cnae.append(cnae)"
   ]
  },
  {
   "cell_type": "code",
   "execution_count": 5,
   "metadata": {},
   "outputs": [],
   "source": [
    "CNAES.keys\n",
    "dataframes = []\n",
    "for cnae in lista_cnae:\n",
    "    globals()[f'df_{cnae}'] = dados.loc[dados['CNAE_PRINCIPAL']== cnae]\n",
    "    dataframes.append(f'df_{cnae}')\n",
    "dados = pd.DataFrame()\n"
   ]
  },
  {
   "cell_type": "code",
   "execution_count": 4,
   "metadata": {},
   "outputs": [],
   "source": [
    "# realizar a leitura para cada arquivo\n",
    "import pandas as pd\n",
    "\n",
    "full_dataset = []\n",
    "for arq in all_files:\n",
    "    frags = arq.split('.')\n",
    "    frame = frags[1]\n",
    "    globals()[f\"df_{frame}\"] = pd.read_csv(f'{diretorio}{arq}',sep=';' ,encoding=\"ISO-8859-1\", nrows=50, names=CNPJ['ESTABELE'])\n",
    "    #data = pd.read_csv(f'{diretorio}{arq}',sep=';' ,encoding=\"ISO-8859-1\", nrows=50, names=CNPJ['ESTABELE'])\n",
    "    full_dataset.append(globals()[f\"df_{frame}\"])\n",
    "    #full_dataset.append(data)    \n",
    "    globals()[f\"df_{frame}\"].head(1)"
   ]
  },
  {
   "cell_type": "code",
   "execution_count": null,
   "metadata": {},
   "outputs": [],
   "source": [
    "print(full_dataset)"
   ]
  },
  {
   "cell_type": "markdown",
   "metadata": {},
   "source": [
    "### Estabelecendo a conexão e criando o banco\n",
    "\n",
    "```python\n",
    "    Vamos criar uma conexão com o SQLite. \n",
    "    O único parâmetro que vamos passar é o nome do banco que será criado.\n",
    "\n",
    "```"
   ]
  },
  {
   "cell_type": "code",
   "execution_count": 9,
   "metadata": {},
   "outputs": [],
   "source": [
    "import sqlite3\n",
    "# estabelecendo a conexão e criando o banco\n",
    "con = sqlite3.connect('database_estabelecimento_sodexo.db')"
   ]
  },
  {
   "cell_type": "markdown",
   "metadata": {},
   "source": [
    "### Obtendo os nomes das tabelas\n",
    "        \n",
    "```python\n",
    "        Para obter o nome das nossas tabelas utilizamos como referência o nome dos arquivos xlsx. \n",
    "        O método splitext é o responsável por separar entre o nome do arquivo e a extensão. \n",
    "        O valor cujo índice é [0] garante que pegaremos apenas a primeira coluna com os nomes dos arquivos.\n",
    "    \n",
    "```"
   ]
  },
  {
   "cell_type": "code",
   "execution_count": 10,
   "metadata": {},
   "outputs": [],
   "source": [
    "# obtendo os nomes das tabelas\n",
    "table_names = [os.path.splitext(arq)[0] for arq in all_files]"
   ]
  },
  {
   "cell_type": "markdown",
   "metadata": {},
   "source": [
    "### Obtendo os campos de todas as tabelas\n",
    "    \n",
    "```python\n",
    "        Em seguida, obteremos os campos de todas as tabelas. Dentro do laço, coletamos a primeira linha (cabeçalho) e armazenamos em columnNames finalizando com um append na lista table_fields.\n",
    "    \n",
    "```"
   ]
  },
  {
   "cell_type": "code",
   "execution_count": 11,
   "metadata": {},
   "outputs": [],
   "source": [
    "# obtendo os campos de todas as tabelas\n",
    "table_fields = []\n",
    "for i in range(0,len(table_names)):\n",
    "    columnNames = list(full_dataset[i].head(0))\n",
    "    table_fields.append(columnNames)"
   ]
  },
  {
   "cell_type": "markdown",
   "metadata": {},
   "source": [
    "### Manipulando o BD\n",
    "```python\n",
    "    Antes da criação e inserção de dados, é necessário definirmos um cursor para interagir com os registros do BD.\n",
    "```"
   ]
  },
  {
   "cell_type": "code",
   "execution_count": 12,
   "metadata": {},
   "outputs": [],
   "source": [
    "import sqlite3\n",
    "cur = con.cursor()"
   ]
  },
  {
   "cell_type": "markdown",
   "metadata": {},
   "source": [
    "### Criando as tabelas no SQLite\n",
    "    \n",
    "```python\n",
    "        Nesse momento, criaremos as tabelas dentro do SQlite. \n",
    "        Para cada elemento das minhas tabelas do xsxl, executamos uma query para criação das tabelas. \n",
    "        Passando para a função execute() o nome da tabela (table_names[item]) bem como os campos que as compõe utilizando o separador vírgula \n",
    "    \n",
    "(‘,’.join(table_fields[item])).\n",
    "```\n"
   ]
  },
  {
   "cell_type": "code",
   "execution_count": 13,
   "metadata": {},
   "outputs": [
    {
     "name": "stdout",
     "output_type": "stream",
     "text": [
      "CREATE TABLE IF NOT EXISTS November_Estabelecimentos_Sodexo_Atualizado ( Estabelecimento,Endereço,Cidade_UF,Telefone,Latitude,Longitude )\n"
     ]
    }
   ],
   "source": [
    "# criando as tabelas no SQLite\n",
    "for item in range(0,len(table_names)):\n",
    "    cur.execute(f\"\"\"CREATE TABLE IF NOT EXISTS {table_names[item] } ( {','.join(table_fields[item])} )\"\"\")\n",
    "    print(f\"\"\"CREATE TABLE IF NOT EXISTS {table_names[item] } ( {','.join(table_fields[item])} )\"\"\")"
   ]
  },
  {
   "cell_type": "markdown",
   "metadata": {},
   "source": [
    "### Varrendo todas as tabelas e para cada uma é realizado a inserção dos dados\n",
    "```python\n",
    "\n",
    "        A última etapa é realizar a carga dos registros em todas as tabelas. \n",
    "        Isso será feito por um laço de repetição que percorre cada tabela realizando a carga dos registros e em seguida grava a execução utilizando o commit().\n",
    "```\n"
   ]
  },
  {
   "cell_type": "code",
   "execution_count": 18,
   "metadata": {},
   "outputs": [],
   "source": [
    "# Varre todas as tabelas e para cada uma é realizada a inserção dos dados\n",
    "for i in range(0, len(table_names)):\n",
    "\n",
    "    query = f\"\"\"INSERT INTO  {str(table_names[i])} ( {','.join(table_fields[i])}  ) VALUES ( {','.join(map(str,'?'*len(full_dataset[i].columns)))} )\"\"\"\n",
    "\n",
    "\n",
    "    full_dataset[i] = full_dataset[i].astype(str)\n",
    "\n",
    "    for j in range(0, len(full_dataset[i])):\n",
    "        insert_register = tuple(full_dataset[i].iloc[j])\n",
    "        cur.execute(query, insert_register)\n",
    "        con.commit()"
   ]
  },
  {
   "cell_type": "markdown",
   "metadata": {},
   "source": [
    "### Função Select nos dados\n",
    "    \n",
    "```python\n",
    "        Chamando a função com parâmetros CAMPO, TABELA, WHERE, CONDIÇÃO \n",
    "    \n",
    "```"
   ]
  },
  {
   "cell_type": "code",
   "execution_count": 32,
   "metadata": {},
   "outputs": [],
   "source": [
    "def SELECT_WHERE(campo:str = '*' ,tabela:str = table_names[0], where:str = table_fields[0][2], condicao:str = 'Belo Horizonte, MG'):\n",
    "    select = f\"\"\" SELECT {campo} FROM {tabela}\n",
    "            WHERE {where} = '{condicao}'\n",
    "    \"\"\"\n",
    "\n",
    "    cur.execute(select)\n",
    "    rows = cur.fetchall()\n",
    "    print(len(rows))\n",
    "    for row in rows:\n",
    "        print(row)"
   ]
  },
  {
   "cell_type": "code",
   "execution_count": null,
   "metadata": {},
   "outputs": [],
   "source": [
    "SELECT_WHERE()"
   ]
  }
 ],
 "metadata": {
  "kernelspec": {
   "display_name": "Python 3.10.7 64-bit",
   "language": "python",
   "name": "python3"
  },
  "language_info": {
   "codemirror_mode": {
    "name": "ipython",
    "version": 3
   },
   "file_extension": ".py",
   "mimetype": "text/x-python",
   "name": "python",
   "nbconvert_exporter": "python",
   "pygments_lexer": "ipython3",
   "version": "3.10.7"
  },
  "orig_nbformat": 4,
  "vscode": {
   "interpreter": {
    "hash": "33b937bef43efa2a1535649a0ecede60f732469583961989e654da1c5a454a04"
   }
  }
 },
 "nbformat": 4,
 "nbformat_minor": 2
}
