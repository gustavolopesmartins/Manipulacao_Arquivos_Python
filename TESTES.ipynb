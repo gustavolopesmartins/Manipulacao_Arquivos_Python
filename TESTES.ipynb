{
 "cells": [
  {
   "cell_type": "code",
   "execution_count": 1,
   "metadata": {},
   "outputs": [],
   "source": [
    "import boto3 \n",
    "import json\n",
    "import time"
   ]
  },
  {
   "cell_type": "code",
   "execution_count": 7,
   "metadata": {},
   "outputs": [],
   "source": [
    "CLIENT = boto3.client(\"athena\")\n",
    "\n",
    "DATA_CATALOG = \"AwsDataCatalog\"\n",
    "DATABASE_NAME = \"abraseldatalake_v1\"\n",
    "RESULT_OUTPUT_LOCATION = \"s3://abrasel-datalake/query-results/\"\n",
    "TABLE_NAME = \"cnpj_ativos\""
   ]
  },
  {
   "cell_type": "code",
   "execution_count": 5,
   "metadata": {},
   "outputs": [],
   "source": [
    "def has_query_succeeded(execution_id):\n",
    "    state = \"RUNNING\"\n",
    "    max_execution = 5\n",
    "\n",
    "    while max_execution > 0 and state in [\"RUNNING\", \"QUEUED\"]:\n",
    "        max_execution -= 1\n",
    "        response = CLIENT.get_query_execution(QueryExecutionId=execution_id)\n",
    "        if (\n",
    "            \"QueryExecution\" in response\n",
    "            and \"Status\" in response[\"QueryExecution\"]\n",
    "            and \"State\" in response[\"QueryExecution\"][\"Status\"]\n",
    "        ):\n",
    "            state = response[\"QueryExecution\"][\"Status\"][\"State\"]\n",
    "            if state == \"SUCCEEDED\":\n",
    "                return True\n",
    "\n",
    "        time.sleep(30)\n",
    "\n",
    "    return False"
   ]
  },
  {
   "cell_type": "code",
   "execution_count": 8,
   "metadata": {},
   "outputs": [],
   "source": [
    "def get_num_rows():\n",
    "    query = f\"SELECT COUNT(*) from {DATA_CATALOG}.{DATABASE_NAME}.{TABLE_NAME}\"\n",
    "    response = CLIENT.start_query_execution(\n",
    "        QueryString=query,\n",
    "        ResultConfiguration={\"OutputLocation\": RESULT_OUTPUT_LOCATION}\n",
    "    )\n",
    "\n",
    "    return response[\"QueryExecutionId\"]\n"
   ]
  },
  {
   "cell_type": "code",
   "execution_count": 9,
   "metadata": {},
   "outputs": [],
   "source": [
    "def get_query_results(execution_id):\n",
    "    response = CLIENT.get_query_results(\n",
    "        QueryExecutionId=execution_id\n",
    "    )\n",
    "\n",
    "    results = response['ResultSet']['Rows']\n",
    "    return results"
   ]
  },
  {
   "cell_type": "code",
   "execution_count": 12,
   "metadata": {},
   "outputs": [],
   "source": [
    "id_consulta = get_num_rows()\n"
   ]
  },
  {
   "cell_type": "code",
   "execution_count": 14,
   "metadata": {},
   "outputs": [
    {
     "name": "stdout",
     "output_type": "stream",
     "text": [
      "[{'Data': [{'VarCharValue': '_col0'}]}, {'Data': [{'VarCharValue': '67665840'}]}]\n"
     ]
    }
   ],
   "source": [
    "print(get_query_results(id_consulta))"
   ]
  },
  {
   "cell_type": "code",
   "execution_count": 5,
   "metadata": {},
   "outputs": [
    {
     "data": {
      "text/plain": [
       "12374347"
      ]
     },
     "execution_count": 5,
     "metadata": {},
     "output_type": "execute_result"
    }
   ],
   "source": [
    "linhas = 0\n",
    "with open(r\"C:\\Users\\ABRASEL NACIONAL\\Documents\\CNPJ_PROGRAMATICA\\ESTABELECIMENTOSCSV\\K3241.K03200Y0.D30114.csv\", mode='r', encoding='ISO-8859-1', errors='ignore') as arq:\n",
    "    #arq.seek(0, 2)\n",
    "    #print(arq.tell())\n",
    "    #print(len(arq.readline()))\n",
    "    #linhas = arq.tell() // len(arq.readline())\n",
    "    for linha in arq:\n",
    "        linhas += 1\n",
    "linhas"
   ]
  }
 ],
 "metadata": {
  "kernelspec": {
   "display_name": "Python 3.10.7 64-bit",
   "language": "python",
   "name": "python3"
  },
  "language_info": {
   "codemirror_mode": {
    "name": "ipython",
    "version": 3
   },
   "file_extension": ".py",
   "mimetype": "text/x-python",
   "name": "python",
   "nbconvert_exporter": "python",
   "pygments_lexer": "ipython3",
   "version": "3.10.7 (tags/v3.10.7:6cc6b13, Sep  5 2022, 14:08:36) [MSC v.1933 64 bit (AMD64)]"
  },
  "orig_nbformat": 4,
  "vscode": {
   "interpreter": {
    "hash": "33b937bef43efa2a1535649a0ecede60f732469583961989e654da1c5a454a04"
   }
  }
 },
 "nbformat": 4,
 "nbformat_minor": 2
}
