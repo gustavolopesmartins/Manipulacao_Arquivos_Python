{
 "cells": [
  {
   "cell_type": "code",
   "execution_count": 1,
   "metadata": {},
   "outputs": [],
   "source": [
    "import boto3 \n",
    "import json\n",
    "import time"
   ]
  },
  {
   "cell_type": "code",
   "execution_count": 7,
   "metadata": {},
   "outputs": [],
   "source": [
    "CLIENT = boto3.client(\"athena\")\n",
    "\n",
    "DATA_CATALOG = \"AwsDataCatalog\"\n",
    "DATABASE_NAME = \"abraseldatalake_v1\"\n",
    "RESULT_OUTPUT_LOCATION = \"s3://abrasel-datalake/query-results/\"\n",
    "TABLE_NAME = \"cnpj_ativos\""
   ]
  },
  {
   "cell_type": "code",
   "execution_count": 5,
   "metadata": {},
   "outputs": [],
   "source": [
    "def has_query_succeeded(execution_id):\n",
    "    state = \"RUNNING\"\n",
    "    max_execution = 5\n",
    "\n",
    "    while max_execution > 0 and state in [\"RUNNING\", \"QUEUED\"]:\n",
    "        max_execution -= 1\n",
    "        response = CLIENT.get_query_execution(QueryExecutionId=execution_id)\n",
    "        if (\n",
    "            \"QueryExecution\" in response\n",
    "            and \"Status\" in response[\"QueryExecution\"]\n",
    "            and \"State\" in response[\"QueryExecution\"][\"Status\"]\n",
    "        ):\n",
    "            state = response[\"QueryExecution\"][\"Status\"][\"State\"]\n",
    "            if state == \"SUCCEEDED\":\n",
    "                return True\n",
    "\n",
    "        time.sleep(30)\n",
    "\n",
    "    return False"
   ]
  },
  {
   "cell_type": "code",
   "execution_count": 8,
   "metadata": {},
   "outputs": [],
   "source": [
    "def get_num_rows():\n",
    "    query = f\"SELECT COUNT(*) from {DATA_CATALOG}.{DATABASE_NAME}.{TABLE_NAME}\"\n",
    "    response = CLIENT.start_query_execution(\n",
    "        QueryString=query,\n",
    "        ResultConfiguration={\"OutputLocation\": RESULT_OUTPUT_LOCATION}\n",
    "    )\n",
    "\n",
    "    return response[\"QueryExecutionId\"]\n"
   ]
  },
  {
   "cell_type": "code",
   "execution_count": 9,
   "metadata": {},
   "outputs": [],
   "source": [
    "def get_query_results(execution_id):\n",
    "    response = CLIENT.get_query_results(\n",
    "        QueryExecutionId=execution_id\n",
    "    )\n",
    "\n",
    "    results = response['ResultSet']['Rows']\n",
    "    return results"
   ]
  },
  {
   "cell_type": "code",
   "execution_count": 12,
   "metadata": {},
   "outputs": [],
   "source": [
    "id_consulta = get_num_rows()\n"
   ]
  },
  {
   "cell_type": "code",
   "execution_count": 14,
   "metadata": {},
   "outputs": [
    {
     "name": "stdout",
     "output_type": "stream",
     "text": [
      "[{'Data': [{'VarCharValue': '_col0'}]}, {'Data': [{'VarCharValue': '67665840'}]}]\n"
     ]
    }
   ],
   "source": [
    "print(get_query_results(id_consulta))"
   ]
  },
  {
   "cell_type": "code",
   "execution_count": 5,
   "metadata": {},
   "outputs": [
    {
     "data": {
      "text/plain": [
       "12374347"
      ]
     },
     "execution_count": 5,
     "metadata": {},
     "output_type": "execute_result"
    }
   ],
   "source": [
    "linhas = 0\n",
    "with open(r\"C:\\Users\\ABRASEL NACIONAL\\Documents\\CNPJ_PROGRAMATICA\\ESTABELECIMENTOSCSV\\K3241.K03200Y0.D30114.csv\", mode='r', encoding='ISO-8859-1', errors='ignore') as arq:\n",
    "    #arq.seek(0, 2)\n",
    "    #print(arq.tell())\n",
    "    #print(len(arq.readline()))\n",
    "    #linhas = arq.tell() // len(arq.readline())\n",
    "    for linha in arq:\n",
    "        linhas += 1\n",
    "linhas"
   ]
  },
  {
   "cell_type": "code",
   "execution_count": 4,
   "metadata": {},
   "outputs": [
    {
     "data": {
      "text/html": [
       "<div>\n",
       "<style scoped>\n",
       "    .dataframe tbody tr th:only-of-type {\n",
       "        vertical-align: middle;\n",
       "    }\n",
       "\n",
       "    .dataframe tbody tr th {\n",
       "        vertical-align: top;\n",
       "    }\n",
       "\n",
       "    .dataframe thead th {\n",
       "        text-align: right;\n",
       "    }\n",
       "</style>\n",
       "<table border=\"1\" class=\"dataframe\">\n",
       "  <thead>\n",
       "    <tr style=\"text-align: right;\">\n",
       "      <th></th>\n",
       "      <th>Codigo Cnae</th>\n",
       "      <th>Descrição</th>\n",
       "      <th>Código Longo</th>\n",
       "    </tr>\n",
       "  </thead>\n",
       "  <tbody>\n",
       "    <tr>\n",
       "      <th>0</th>\n",
       "      <td>111301</td>\n",
       "      <td>CULTIVO DE ARROZ</td>\n",
       "      <td>0111-3/01</td>\n",
       "    </tr>\n",
       "    <tr>\n",
       "      <th>1</th>\n",
       "      <td>111302</td>\n",
       "      <td>CULTIVO DE MILHO</td>\n",
       "      <td>0111-3/02</td>\n",
       "    </tr>\n",
       "    <tr>\n",
       "      <th>2</th>\n",
       "      <td>111303</td>\n",
       "      <td>CULTIVO DE TRIGO</td>\n",
       "      <td>0111-3/03</td>\n",
       "    </tr>\n",
       "    <tr>\n",
       "      <th>3</th>\n",
       "      <td>111399</td>\n",
       "      <td>CULTIVO DE OUTROS CEREAIS NÃO ESPECIFICADOS AN...</td>\n",
       "      <td>0111-3/99</td>\n",
       "    </tr>\n",
       "    <tr>\n",
       "      <th>4</th>\n",
       "      <td>112101</td>\n",
       "      <td>CULTIVO DE ALGODÃO HERBÁCEO</td>\n",
       "      <td>0112-1/01</td>\n",
       "    </tr>\n",
       "    <tr>\n",
       "      <th>...</th>\n",
       "      <td>...</td>\n",
       "      <td>...</td>\n",
       "      <td>...</td>\n",
       "    </tr>\n",
       "    <tr>\n",
       "      <th>495</th>\n",
       "      <td>2920402</td>\n",
       "      <td>FABRICAÇÃO DE MOTORES PARA CAMINHÕES E ÔNIBUS</td>\n",
       "      <td>2920-4/02</td>\n",
       "    </tr>\n",
       "    <tr>\n",
       "      <th>496</th>\n",
       "      <td>2930101</td>\n",
       "      <td>FABRICAÇÃO DE CABINES, CARROCERIAS E REBOQUES ...</td>\n",
       "      <td>2930-1/01</td>\n",
       "    </tr>\n",
       "    <tr>\n",
       "      <th>497</th>\n",
       "      <td>2930102</td>\n",
       "      <td>FABRICAÇÃO DE CARROCERIAS PARA ÔNIBUS</td>\n",
       "      <td>2930-1/02</td>\n",
       "    </tr>\n",
       "    <tr>\n",
       "      <th>498</th>\n",
       "      <td>2930103</td>\n",
       "      <td>FABRICAÇÃO DE CABINES, CARROCERIAS E REBOQUES ...</td>\n",
       "      <td>2930-1/03</td>\n",
       "    </tr>\n",
       "    <tr>\n",
       "      <th>499</th>\n",
       "      <td>2941700</td>\n",
       "      <td>FABRICAÇÃO DE PEÇAS E ACESSÓRIOS PARA O SISTEM...</td>\n",
       "      <td>2941-7/00</td>\n",
       "    </tr>\n",
       "  </tbody>\n",
       "</table>\n",
       "<p>500 rows × 3 columns</p>\n",
       "</div>"
      ],
      "text/plain": [
       "     Codigo Cnae                                          Descrição  \\\n",
       "0         111301                                   CULTIVO DE ARROZ   \n",
       "1         111302                                   CULTIVO DE MILHO   \n",
       "2         111303                                   CULTIVO DE TRIGO   \n",
       "3         111399  CULTIVO DE OUTROS CEREAIS NÃO ESPECIFICADOS AN...   \n",
       "4         112101                        CULTIVO DE ALGODÃO HERBÁCEO   \n",
       "..           ...                                                ...   \n",
       "495      2920402      FABRICAÇÃO DE MOTORES PARA CAMINHÕES E ÔNIBUS   \n",
       "496      2930101  FABRICAÇÃO DE CABINES, CARROCERIAS E REBOQUES ...   \n",
       "497      2930102              FABRICAÇÃO DE CARROCERIAS PARA ÔNIBUS   \n",
       "498      2930103  FABRICAÇÃO DE CABINES, CARROCERIAS E REBOQUES ...   \n",
       "499      2941700  FABRICAÇÃO DE PEÇAS E ACESSÓRIOS PARA O SISTEM...   \n",
       "\n",
       "    Código Longo  \n",
       "0      0111-3/01  \n",
       "1      0111-3/02  \n",
       "2      0111-3/03  \n",
       "3      0111-3/99  \n",
       "4      0112-1/01  \n",
       "..           ...  \n",
       "495    2920-4/02  \n",
       "496    2930-1/01  \n",
       "497    2930-1/02  \n",
       "498    2930-1/03  \n",
       "499    2941-7/00  \n",
       "\n",
       "[500 rows x 3 columns]"
      ]
     },
     "execution_count": 4,
     "metadata": {},
     "output_type": "execute_result"
    }
   ],
   "source": [
    "import requests\n",
    "import pandas as pd\n",
    "import json\n",
    "\n",
    "df = pd.read_csv(r\"C:\\Users\\ABRASEL NACIONAL\\Downloads\\cnaes.csv\")\n",
    "df.rename(columns={'Id':'Codigo Cnae'}, inplace=True)\n",
    "df"
   ]
  },
  {
   "cell_type": "code",
   "execution_count": 7,
   "metadata": {},
   "outputs": [
    {
     "ename": "TypeError",
     "evalue": "NDFrame.to_excel() got an unexpected keyword argument 'author'",
     "output_type": "error",
     "traceback": [
      "\u001b[1;31m---------------------------------------------------------------------------\u001b[0m",
      "\u001b[1;31mTypeError\u001b[0m                                 Traceback (most recent call last)",
      "Cell \u001b[1;32mIn [7], line 1\u001b[0m\n\u001b[1;32m----> 1\u001b[0m df\u001b[39m.\u001b[39;49mto_excel(\u001b[39m'\u001b[39;49m\u001b[39mTABELA_DESCRICAO_CNAE.xlsx\u001b[39;49m\u001b[39m'\u001b[39;49m,engine\u001b[39m=\u001b[39;49m\u001b[39m'\u001b[39;49m\u001b[39mopenpyxl\u001b[39;49m\u001b[39m'\u001b[39;49m, sheet_name\u001b[39m=\u001b[39;49m\u001b[39m'\u001b[39;49m\u001b[39mLista Cnaes\u001b[39;49m\u001b[39m'\u001b[39;49m, index\u001b[39m=\u001b[39;49m\u001b[39mFalse\u001b[39;49;00m, author\u001b[39m=\u001b[39;49m\u001b[39m'\u001b[39;49m\u001b[39mGustavo Henrique Lopes Martins\u001b[39;49m\u001b[39m'\u001b[39;49m)\n",
      "File \u001b[1;32mc:\\Users\\ABRASEL NACIONAL\\AppData\\Local\\Programs\\Python\\Python310\\lib\\site-packages\\pandas\\util\\_decorators.py:211\u001b[0m, in \u001b[0;36mdeprecate_kwarg.<locals>._deprecate_kwarg.<locals>.wrapper\u001b[1;34m(*args, **kwargs)\u001b[0m\n\u001b[0;32m    209\u001b[0m     \u001b[39melse\u001b[39;00m:\n\u001b[0;32m    210\u001b[0m         kwargs[new_arg_name] \u001b[39m=\u001b[39m new_arg_value\n\u001b[1;32m--> 211\u001b[0m \u001b[39mreturn\u001b[39;00m func(\u001b[39m*\u001b[39margs, \u001b[39m*\u001b[39m\u001b[39m*\u001b[39mkwargs)\n",
      "File \u001b[1;32mc:\\Users\\ABRASEL NACIONAL\\AppData\\Local\\Programs\\Python\\Python310\\lib\\site-packages\\pandas\\util\\_decorators.py:211\u001b[0m, in \u001b[0;36mdeprecate_kwarg.<locals>._deprecate_kwarg.<locals>.wrapper\u001b[1;34m(*args, **kwargs)\u001b[0m\n\u001b[0;32m    209\u001b[0m     \u001b[39melse\u001b[39;00m:\n\u001b[0;32m    210\u001b[0m         kwargs[new_arg_name] \u001b[39m=\u001b[39m new_arg_value\n\u001b[1;32m--> 211\u001b[0m \u001b[39mreturn\u001b[39;00m func(\u001b[39m*\u001b[39margs, \u001b[39m*\u001b[39m\u001b[39m*\u001b[39mkwargs)\n",
      "\u001b[1;31mTypeError\u001b[0m: NDFrame.to_excel() got an unexpected keyword argument 'author'"
     ]
    }
   ],
   "source": [
    "df.to_excel('TABELA_DESCRICAO_CNAE.xlsx',engine='openpyxl', sheet_name='Lista Cnaes', index=False, author='Gustavo Henrique Lopes Martins')"
   ]
  }
 ],
 "metadata": {
  "kernelspec": {
   "display_name": "Python 3.10.7 64-bit",
   "language": "python",
   "name": "python3"
  },
  "language_info": {
   "codemirror_mode": {
    "name": "ipython",
    "version": 3
   },
   "file_extension": ".py",
   "mimetype": "text/x-python",
   "name": "python",
   "nbconvert_exporter": "python",
   "pygments_lexer": "ipython3",
   "version": "3.10.7"
  },
  "orig_nbformat": 4,
  "vscode": {
   "interpreter": {
    "hash": "33b937bef43efa2a1535649a0ecede60f732469583961989e654da1c5a454a04"
   }
  }
 },
 "nbformat": 4,
 "nbformat_minor": 2
}
