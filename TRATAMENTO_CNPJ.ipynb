{
 "cells": [
  {
   "cell_type": "code",
   "execution_count": 1,
   "metadata": {},
   "outputs": [
    {
     "name": "stdout",
     "output_type": "stream",
     "text": [
      "-RECORD 0------------------------------------------------\n",
      " CNPJ_BASE                        | 27459772             \n",
      " CNPJ_ORDEM                       | 1                    \n",
      " CNPJ_DV                          | 42                   \n",
      " MATRIZ_FILIAL                    | 1                    \n",
      " NOME_FANTASIA                    | J M NETO             \n",
      " SITUACAO_CADASTRAL               | 8                    \n",
      " DATA_SITUACAO_CADASTRAL          | 20180821             \n",
      " CODIGO_MOTIVO_SITUACAO_CADASTRAL | 1                    \n",
      " CIDADE_EXTERIOR                  | null                 \n",
      " CODIGO_PAIS                      | null                 \n",
      " DATA_INICIO_ATIVIDADE            | 20170404             \n",
      " CNAE_PRINCIPAL                   | 4754702              \n",
      " CNAE_SECUNDARIO                  | null                 \n",
      " TIPO_LOGRADOURO                  | RUA                  \n",
      " LOGRADOURO                       | B                    \n",
      " NUMERO                           | 120                  \n",
      " COMPLEMENTO                      | ANDAR 2;APT          \n",
      " BAIRRO                           | CAMPO BELO           \n",
      " CEP                              | 29143019             \n",
      " UF                               | ES                   \n",
      " CODIGO_MUNICIPIO                 | 5625                 \n",
      " DDD_CONTATO                      | 27                   \n",
      " TELEFONE_CONTATO                 | 99029355             \n",
      " DDD_COMERCIAL                    | null                 \n",
      " TELEFONE_COMERCIAL               | null                 \n",
      " DDD_FAX                          | null                 \n",
      " FAX                              | null                 \n",
      " EMAIL                            | neto_gm@live.com.pt  \n",
      " SITUACAO_ESPECIAL                | null                 \n",
      " DATA_SITUACAO_ESPECIAL           | null                 \n",
      " NOME_ARQUIVO                     | TESTE_BASE/RAW/ES... \n",
      "only showing top 1 row\n",
      "\n"
     ]
    }
   ],
   "source": [
    "from TESTE_BASE.DOWNLOAD_EXTRACT_TO_TRANSFORM_CNPJ import EXTRATOR_CNPJ\n",
    "EC_ESTABELE = EXTRATOR_CNPJ(nome_arquivo=\"Estabelecimentos\")\n",
    "estabelecimentos_cnpj = EC_ESTABELE.run()"
   ]
  },
  {
   "cell_type": "code",
   "execution_count": 2,
   "metadata": {},
   "outputs": [
    {
     "data": {
      "text/plain": [
       "56132011"
      ]
     },
     "execution_count": 2,
     "metadata": {},
     "output_type": "execute_result"
    }
   ],
   "source": [
    "estabelecimentos_cnpj.count()"
   ]
  }
 ],
 "metadata": {
  "kernelspec": {
   "display_name": "Python 3.10.7 64-bit",
   "language": "python",
   "name": "python3"
  },
  "language_info": {
   "codemirror_mode": {
    "name": "ipython",
    "version": 3
   },
   "file_extension": ".py",
   "mimetype": "text/x-python",
   "name": "python",
   "nbconvert_exporter": "python",
   "pygments_lexer": "ipython3",
   "version": "3.9.10"
  },
  "orig_nbformat": 4,
  "vscode": {
   "interpreter": {
    "hash": "33b937bef43efa2a1535649a0ecede60f732469583961989e654da1c5a454a04"
   }
  }
 },
 "nbformat": 4,
 "nbformat_minor": 2
}
