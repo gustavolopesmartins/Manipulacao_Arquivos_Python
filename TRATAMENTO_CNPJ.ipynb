{
 "cells": [
  {
   "cell_type": "code",
   "execution_count": 1,
   "metadata": {},
   "outputs": [],
   "source": [
    "# ler todos os arquivos csv do diretório e guardar em um objeto\n",
    "# import required modules\n",
    "import numpy as np\n",
    "import time\n",
    "import os\n",
    "import re\n",
    "import pandas as pd\n",
    "from dask import dataframe as dd\n",
    "\n",
    "#diretorio = r'Bases\\Base_atualizada/'\n",
    "diretorio = r'Bases/'\n",
    "all_files = list(filter(lambda x: '.csv' in x, os.listdir(diretorio)))\n",
    "\n",
    "#Warnings: Possui uma série de funções e comandos para tratamento de mensagens de avisos e alertas do Python\n",
    "import warnings\n",
    "warnings.filterwarnings(\"ignore\")\n",
    "\n",
    "#Comando para exibir todas colunas do arquivo\n",
    "pd.set_option('display.max_columns', None)\n",
    "pd.set_option('display.max_rows', None)"
   ]
  },
  {
   "cell_type": "code",
   "execution_count": 2,
   "metadata": {
    "vscode": {
     "languageId": "shellscript"
    }
   },
   "outputs": [],
   "source": [
    "# Layout CNPJ\n",
    "CNPJ = {\"EMPRE\" : ['CNPJ_BASE', 'RAZAO_SOCIAL', 'NATUREZA_JURIDICA' , 'QUALIFICACAO' ,\n",
    "                    'VALOR_CAPITAL_SOCIAL' , 'PORTE_EMPRESA'  , 'ENTE_FEDERATIVO'],\n",
    "\n",
    "\"ESTABELE\" : ['CNPJ_BASE', 'CNPJ_ORDEM' , 'CNPJ_DV' , 'MATRIZ_FILIAL'  , 'NOME_FANTASIA' , 'SITUACAO_CADASTRAL' ,\n",
    "              'DATA_SITUACAO_CADASTRAL'  , 'MOTIVO_SITUACAO_CADASTRAL'  , 'DATA_INICIO_ATIVIDADE'  ,\n",
    "              'CNAE_PRINCIPAL'  , 'CNAE_SECUNDARIO' , 'TIPO_LOGRADOURO'  , 'LOGRADOURO'  , 'NUMERO'  , 'COMPLEMENTO' ,\n",
    "              'BAIRRO'  , 'CEP'  , 'UF'  , 'MUNICIPIO'  , 'DDD1'  , 'TELEFONE1'  , 'DDD2'  , 'TELEFONE2'  ,\n",
    "              'DDD_FAX'  , 'FAX'  , 'EMAIL'],  \n",
    "\n",
    "\"SIMPLES\" : ['CNPJ_BASE'  , 'OPCAO_SIMPLES'  , 'DATA_OPCAO_SIMPLES'  , 'DATA_EXCLUSAO_SIMPLES'  ,\n",
    "             'OPCAO_MEI'  , 'DATA_OPCAO_MEI'  , 'DATA_EXCLUSAO_MEI'],\n",
    "\n",
    "\"SOCIO\" : ['CNPJ_BASE'  , 'TIPO'  , 'NOME'  , 'CPF_CNPJ'  , 'QUALIFICACAO'  , 'DATA_ENTRADA' ,\n",
    "            'PAIS' , 'REPRESENTANTE'  , 'NOME_REPRESENTANTE'  , 'QUALIFICACAO_REPRESENTANTE'  , 'FAIXA_ETARIA'  ],\n",
    "\n",
    "\"PAIS\" : ['CODIGO_PAIS' , 'PAIS'],\n",
    "\n",
    "\"MUNIC\" : ['MUNICIPIO'  , 'MUNICIPIO'  ],\n",
    "\n",
    "\"QUALS\" : ['QUALIFICACAO', 'QUALIFICACAO' ],\n",
    "\n",
    "\"NATJU\" : ['NATUREZA_JURIDICA'  , 'NATUREZA_JURIDICA'],\n",
    "\n",
    "\"MOTI\" : ['MOTIVO_SITUACAO_CADASTRAL'  , 'MOTIVO_SITUACAO_CADASTRAL'  ],\n",
    "\n",
    "\"CNAE\" : ['CODIGO_CNAE'  , 'CNAE' ]}\n",
    "dtypes = {'CNPJ_BASE': 'category',\n",
    " 'CNPJ_ORDEM': 'category',\n",
    " 'CNPJ_DV': 'category'}\n"
   ]
  },
  {
   "cell_type": "code",
   "execution_count": null,
   "metadata": {},
   "outputs": [],
   "source": [
    "CNAES = {5611201:'Restaurantes e similares',\n",
    "        5611203:'Lanchonetes casas de chá de sucos e similares',\n",
    "        5611204:'Bares e outros estabelecimentos especializados em servir bebidas sem entretenimento',\n",
    "        5611205:'Bares e outros estabelecimentos especializados em servir bebidas com entretenimento',\n",
    "        5612100: 'Serviços ambulantes de alimentação'}\n",
    "\n",
    "lista_cnae = []\n",
    "for cnae in CNAES.keys():\n",
    "    lista_cnae.append(cnae)"
   ]
  },
  {
   "cell_type": "code",
   "execution_count": null,
   "metadata": {},
   "outputs": [],
   "source": [
    "for cnae in lista_cnae:\n",
    "    print(CNAES[cnae])"
   ]
  },
  {
   "cell_type": "code",
   "execution_count": 6,
   "metadata": {},
   "outputs": [
    {
     "name": "stdout",
     "output_type": "stream",
     "text": [
      "ANTES \n",
      "Nome: Bares e outros estabelecimentos especializados em servir bebidas com entretenimento.csv Tamanho: 82074\n",
      "DEPOIS \n",
      "Nome: Bares e outros estabelecimentos especializados em servir bebidas com entretenimento.csv Tamanho: 74905\n",
      "ANTES \n",
      "Nome: Bares e outros estabelecimentos especializados em servir bebidas sem entretenimento.csv Tamanho: 255716\n",
      "DEPOIS \n",
      "Nome: Bares e outros estabelecimentos especializados em servir bebidas sem entretenimento.csv Tamanho: 244129\n",
      "ANTES \n",
      "Nome: Lanchonetes casas de chá de sucos e similares.csv Tamanho: 762936\n",
      "DEPOIS \n",
      "Nome: Lanchonetes casas de chá de sucos e similares.csv Tamanho: 724680\n",
      "ANTES \n",
      "Nome: Restaurantes e similares.csv Tamanho: 618054\n",
      "DEPOIS \n",
      "Nome: Restaurantes e similares.csv Tamanho: 582532\n",
      "ANTES \n",
      "Nome: Serviços ambulantes de alimentação.csv Tamanho: 279857\n",
      "DEPOIS \n",
      "Nome: Serviços ambulantes de alimentação.csv Tamanho: 260776\n"
     ]
    }
   ],
   "source": [
    "for file in all_files:\n",
    "    globals()[f'{file}'] = pd.read_csv(f'{diretorio}/{file}',sep=';',encoding='utf-8', names=CNPJ['ESTABELE'],low_memory=False, dtype=dtypes)\n",
    "    print(f'ANTES \\nNome: {file} Tamanho: {globals()[f\"{file}\"].shape[0]}')\n",
    "    globals()[f'{file}']['NOME_FANTASIA'].fillna('Indisponível', inplace=True)\n",
    "    globals()[f'{file}'].drop_duplicates(inplace=True)\n",
    "    indice_remove = globals()[f'{file}'][(globals()[f'{file}']['SITUACAO_CADASTRAL'] != 2) & (globals()[f'{file}']['SITUACAO_CADASTRAL'] != 3) &(globals()[f'{file}']['SITUACAO_CADASTRAL'] != 4)& (globals()[f'{file}']['SITUACAO_CADASTRAL'] != 5)].index\n",
    "    globals()[f'{file}'].drop(indice_remove, inplace=True)\n",
    "    globals()[f'{file}'].to_csv(f'{diretorio}Arquivos_Limpos/{file}', index=False,sep=';', encoding='utf-8', header=False)\n",
    "    globals()[f'{file}'].to_csv(f'Bases/Atualizado_CNAES_AFL.csv', index=False, mode='a', sep=';', encoding='utf-8', header=False)\n",
    "    print(f'DEPOIS \\nNome: {file} Tamanho: {globals()[f\"{file}\"].shape[0]}')\n"
   ]
  },
  {
   "cell_type": "code",
   "execution_count": 3,
   "metadata": {},
   "outputs": [
    {
     "name": "stdout",
     "output_type": "stream",
     "text": [
      "ANTES \n",
      "Nome: Albergues, exceto assistenciais.csv Tamanho: 12\n",
      "DEPOIS \n",
      "Nome: Albergues, exceto assistenciais.csv Tamanho: 12\n",
      "ANTES \n",
      "Nome: Apart hotéis.csv Tamanho: 31\n",
      "DEPOIS \n",
      "Nome: Apart hotéis.csv Tamanho: 31\n",
      "ANTES \n",
      "Nome: Campings.csv Tamanho: 3\n",
      "DEPOIS \n",
      "Nome: Campings.csv Tamanho: 3\n",
      "ANTES \n",
      "Nome: Hotéis.csv Tamanho: 713\n",
      "DEPOIS \n",
      "Nome: Hotéis.csv Tamanho: 713\n",
      "ANTES \n",
      "Nome: Motéis.csv Tamanho: 96\n",
      "DEPOIS \n",
      "Nome: Motéis.csv Tamanho: 96\n",
      "ANTES \n",
      "Nome: Outros alojamentos não especificados anteriormente.csv Tamanho: 264\n",
      "DEPOIS \n",
      "Nome: Outros alojamentos não especificados anteriormente.csv Tamanho: 264\n",
      "ANTES \n",
      "Nome: Pensões(alojamento).csv Tamanho: 174\n",
      "DEPOIS \n",
      "Nome: Pensões(alojamento).csv Tamanho: 174\n"
     ]
    }
   ],
   "source": [
    "for file in all_files:\n",
    "    globals()[f'{file}'] = pd.read_csv(f'{diretorio}/{file}',sep=';',encoding='utf-8', names=CNPJ['ESTABELE'],low_memory=False, dtype=dtypes)\n",
    "    print(f'ANTES \\nNome: {file} Tamanho: {globals()[f\"{file}\"].shape[0]}')\n",
    "    globals()[f'{file}']['NOME_FANTASIA'].fillna('Indisponível', inplace=True)\n",
    "    globals()[f'{file}'].drop_duplicates(inplace=True)\n",
    "    indice_remove = globals()[f'{file}'][(globals()[f'{file}']['SITUACAO_CADASTRAL'] != 2) & (globals()[f'{file}']['SITUACAO_CADASTRAL'] != 3) &(globals()[f'{file}']['SITUACAO_CADASTRAL'] != 4)& (globals()[f'{file}']['SITUACAO_CADASTRAL'] != 5)].index\n",
    "    globals()[f'{file}'].drop(indice_remove, inplace=True)\n",
    "    globals()[f'{file}'].to_csv(f'{diretorio}Arquivos_Limpos/{file}', index=False,sep=';', encoding='utf-8')\n",
    "    globals()[f'{file}'].to_csv(f'Bases/Atualizado_CNAES_hospedagem.csv', index=False, mode='a', sep=';', encoding='utf-8', header=False)\n",
    "    print(f'DEPOIS \\nNome: {file} Tamanho: {globals()[f\"{file}\"].shape[0]}')\n"
   ]
  },
  {
   "cell_type": "code",
   "execution_count": 6,
   "metadata": {},
   "outputs": [],
   "source": [
    "dados = pd.read_csv('Bases\\Atualizado_CNAES_hospedagem.csv', encoding='utf-8', sep=';')\n",
    "dados.head()\n",
    "dados.to_excel('BASE_HOSPEDAGENS_RECEITA_FEDERAL_OUTUBRO_2022.xlsx', index=False)"
   ]
  },
  {
   "cell_type": "code",
   "execution_count": 4,
   "metadata": {},
   "outputs": [
    {
     "name": "stdout",
     "output_type": "stream",
     "text": [
      "2    6\n",
      "4    6\n",
      "Name: SITUACAO_CADASTRAL, dtype: int64\n",
      "2    20\n",
      "4    10\n",
      "3     1\n",
      "Name: SITUACAO_CADASTRAL, dtype: int64\n",
      "2    3\n",
      "Name: SITUACAO_CADASTRAL, dtype: int64\n",
      "2    543\n",
      "4    169\n",
      "3      1\n",
      "Name: SITUACAO_CADASTRAL, dtype: int64\n",
      "2    76\n",
      "4    20\n",
      "Name: SITUACAO_CADASTRAL, dtype: int64\n",
      "2    220\n",
      "4     44\n",
      "Name: SITUACAO_CADASTRAL, dtype: int64\n",
      "2    121\n",
      "4     52\n",
      "3      1\n",
      "Name: SITUACAO_CADASTRAL, dtype: int64\n"
     ]
    }
   ],
   "source": [
    "c = 0\n",
    "for file in all_files:\n",
    "    c = c+1\n",
    "    globals()[f'var{c}'] = globals()[f'{file}'].SITUACAO_CADASTRAL.value_counts()\n",
    "    print(globals()[f'var{c}'])\n"
   ]
  },
  {
   "cell_type": "code",
   "execution_count": null,
   "metadata": {},
   "outputs": [],
   "source": [
    "dados = pd.read_csv(r'Bases/Base_atualizada/CNAES_AFL.csv',sep=';',encoding='utf-8', names=CNPJ['ESTABELE'],low_memory=False)\n",
    "print(dados.shape[0])\n",
    "dados.to_csv(r'Bases/Base_atualizada/Atualizado_CNAES_AFL.csv', index=False, header=False, encoding='utf-8', sep=';')\n",
    "dados.head(5)"
   ]
  },
  {
   "cell_type": "code",
   "execution_count": null,
   "metadata": {},
   "outputs": [],
   "source": [
    "dados1 = pd.read_csv(r'Bases/Base_atualizada/CNAES_AFL.csv',sep=';',encoding='utf-8', names=CNPJ['ESTABELE'],low_memory=False)\n",
    "print(dados1.shape[0])\n",
    "CNPJ_BASE = dados1['CNPJ_BASE'].to_list()\n",
    "del dados1"
   ]
  },
  {
   "cell_type": "code",
   "execution_count": null,
   "metadata": {},
   "outputs": [],
   "source": [
    "del all_files\n",
    "del cnae\n",
    "del CNAES\n",
    "del diretorio"
   ]
  },
  {
   "cell_type": "code",
   "execution_count": null,
   "metadata": {},
   "outputs": [],
   "source": [
    "print(str(round(dados.memory_usage(deep=True).sum() / 1024)) + ' KB')\n",
    "dados.memory_usage(deep=True)\n"
   ]
  },
  {
   "cell_type": "code",
   "execution_count": null,
   "metadata": {},
   "outputs": [],
   "source": [
    "print(str(round(dados1.memory_usage(deep=True).sum() / 1024)) + ' KB')"
   ]
  },
  {
   "cell_type": "code",
   "execution_count": null,
   "metadata": {},
   "outputs": [],
   "source": [
    "globals()[f'dados'] = pd.DataFrame()"
   ]
  },
  {
   "cell_type": "code",
   "execution_count": null,
   "metadata": {},
   "outputs": [],
   "source": [
    "del globals()[f'dados']"
   ]
  },
  {
   "cell_type": "code",
   "execution_count": null,
   "metadata": {},
   "outputs": [],
   "source": [
    "objects = dados.select_dtypes('object').columns\n",
    "dados.loc[:, objects] = dados.loc[:, objects].apply(lambda x: x.astype('category'))\n",
    "\n",
    "ints = dados.select_dtypes(include=['int64','int32','int16']).columns\n",
    "dados[ints] = dados[ints].apply(pd.to_numeric, downcast='integer')\n",
    "\n",
    "floats = dados.select_dtypes(include=['float']).columns\n",
    "dados[floats] = dados[floats].apply(pd.to_numeric, downcast='float')"
   ]
  },
  {
   "cell_type": "code",
   "execution_count": null,
   "metadata": {},
   "outputs": [],
   "source": [
    "print(str(round(dados.memory_usage(deep=True).sum() / 1024)) + ' KB')\n",
    "dados.describe()"
   ]
  },
  {
   "cell_type": "code",
   "execution_count": null,
   "metadata": {},
   "outputs": [],
   "source": [
    "types = dados.dtypes\n",
    "types = types.apply(str)\n",
    "dict_types = types.to_dict()\n",
    "dict_types"
   ]
  },
  {
   "cell_type": "code",
   "execution_count": null,
   "metadata": {},
   "outputs": [],
   "source": [
    "\n",
    "dataframes = []\n",
    "for cnae in lista_cnae:\n",
    "    globals()[f'df_{cnae}'] = dados.loc[dados['CNAE_PRINCIPAL']== cnae]\n",
    "    dataframes.append(f'df_{cnae}')\n",
    "dados = pd.DataFrame()\n"
   ]
  },
  {
   "cell_type": "code",
   "execution_count": null,
   "metadata": {},
   "outputs": [],
   "source": [
    "# realizar a leitura para cada arquivo\n",
    "\n",
    "full_dataset = []\n",
    "for arq in all_files:\n",
    "    frags = arq.split('.')\n",
    "    frame = frags[1]\n",
    "    globals()[f\"df_{frame}\"] = pd.read_csv(f'{diretorio}{arq}',sep=';' ,encoding=\"ISO-8859-1\", nrows=50, names=CNPJ['ESTABELE'])\n",
    "    #data = pd.read_csv(f'{diretorio}{arq}',sep=';' ,encoding=\"ISO-8859-1\", nrows=50, names=CNPJ['ESTABELE'])\n",
    "    full_dataset.append(globals()[f\"df_{frame}\"])\n",
    "    #full_dataset.append(data)    \n",
    "    globals()[f\"df_{frame}\"].head(1)"
   ]
  },
  {
   "cell_type": "code",
   "execution_count": null,
   "metadata": {},
   "outputs": [],
   "source": [
    "print(full_dataset)"
   ]
  },
  {
   "cell_type": "code",
   "execution_count": null,
   "metadata": {},
   "outputs": [],
   "source": [
    "import sqlite3\n",
    "# estabelecendo a conexão e criando o banco\n",
    "con = sqlite3.connect('database_estabelecimento_sodexo.db')"
   ]
  },
  {
   "cell_type": "code",
   "execution_count": null,
   "metadata": {},
   "outputs": [],
   "source": [
    "# obtendo os nomes das tabelas\n",
    "table_names = [os.path.splitext(arq)[0] for arq in all_files]"
   ]
  },
  {
   "cell_type": "code",
   "execution_count": null,
   "metadata": {},
   "outputs": [],
   "source": [
    "# obtendo os campos de todas as tabelas\n",
    "table_fields = []\n",
    "for i in range(0,len(table_names)):\n",
    "    columnNames = list(full_dataset[i].head(0))\n",
    "    table_fields.append(columnNames)"
   ]
  },
  {
   "cell_type": "code",
   "execution_count": null,
   "metadata": {},
   "outputs": [],
   "source": [
    "import sqlite3\n",
    "cur = con.cursor()"
   ]
  },
  {
   "cell_type": "code",
   "execution_count": null,
   "metadata": {},
   "outputs": [],
   "source": [
    "# criando as tabelas no SQLite\n",
    "for item in range(0,len(table_names)):\n",
    "    cur.execute(f\"\"\"CREATE TABLE IF NOT EXISTS {table_names[item] } ( {','.join(table_fields[item])} )\"\"\")\n",
    "    print(f\"\"\"CREATE TABLE IF NOT EXISTS {table_names[item] } ( {','.join(table_fields[item])} )\"\"\")"
   ]
  },
  {
   "cell_type": "code",
   "execution_count": null,
   "metadata": {},
   "outputs": [],
   "source": [
    "# Varre todas as tabelas e para cada uma é realizada a inserção dos dados\n",
    "for i in range(0, len(table_names)):\n",
    "\n",
    "    query = f\"\"\"INSERT INTO  {str(table_names[i])} ( {','.join(table_fields[i])}  ) VALUES ( {','.join(map(str,'?'*len(full_dataset[i].columns)))} )\"\"\"\n",
    "\n",
    "\n",
    "    full_dataset[i] = full_dataset[i].astype(str)\n",
    "\n",
    "    for j in range(0, len(full_dataset[i])):\n",
    "        insert_register = tuple(full_dataset[i].iloc[j])\n",
    "        cur.execute(query, insert_register)\n",
    "        con.commit()"
   ]
  },
  {
   "cell_type": "code",
   "execution_count": null,
   "metadata": {},
   "outputs": [],
   "source": [
    "def SELECT_WHERE(campo:str = '*' ,tabela:str = table_names[0], where:str = table_fields[0][2], condicao:str = 'Belo Horizonte, MG'):\n",
    "    select = f\"\"\" SELECT {campo} FROM {tabela}\n",
    "            WHERE {where} = '{condicao}'\n",
    "    \"\"\"\n",
    "\n",
    "    cur.execute(select)\n",
    "    rows = cur.fetchall()\n",
    "    print(len(rows))\n",
    "    for row in rows:\n",
    "        print(row)"
   ]
  },
  {
   "cell_type": "code",
   "execution_count": null,
   "metadata": {},
   "outputs": [],
   "source": [
    "SELECT_WHERE()"
   ]
  },
  {
   "cell_type": "code",
   "execution_count": null,
   "metadata": {},
   "outputs": [],
   "source": [
    "dadosben = pd.read_excel(r\"C:\\Users\\ABRASEL NACIONAL\\Documents\\CNPJ_PROGRAMATICA\\Painel_Leads\\BaseCsv\\ATUALIZADO_November_Estabelecimentos_Sodexo.xlsx\", usecols=['Estabelecimento','Endereço','Cidade_UF'])\n",
    "dadosben.head()"
   ]
  },
  {
   "cell_type": "code",
   "execution_count": null,
   "metadata": {},
   "outputs": [],
   "source": [
    "new_i = []\n",
    "for i in dadosben['Endereço']:\n",
    "    list_i = i.split(',')\n",
    "    if len(list_i) > 1:\n",
    "        new_i.append(list_i[0] + list_i[1])\n",
    "    else:\n",
    "        new_i.append(i)\n",
    "dadosben['EnderecoComparacao'] = new_i"
   ]
  },
  {
   "cell_type": "code",
   "execution_count": null,
   "metadata": {},
   "outputs": [],
   "source": [
    "del new_i, i, list_i"
   ]
  },
  {
   "cell_type": "code",
   "execution_count": null,
   "metadata": {},
   "outputs": [],
   "source": [
    "dadosben.drop(columns='Endereço', inplace=True)"
   ]
  },
  {
   "cell_type": "code",
   "execution_count": null,
   "metadata": {},
   "outputs": [],
   "source": [
    "\n",
    "dadosben.to_csv('basecomparacao_cartoes.csv', mode='a', index=False)"
   ]
  },
  {
   "cell_type": "code",
   "execution_count": null,
   "metadata": {},
   "outputs": [],
   "source": [
    "del dadosben"
   ]
  },
  {
   "cell_type": "code",
   "execution_count": null,
   "metadata": {},
   "outputs": [],
   "source": []
  }
 ],
 "metadata": {
  "kernelspec": {
   "display_name": "Python 3.10.7 64-bit",
   "language": "python",
   "name": "python3"
  },
  "language_info": {
   "codemirror_mode": {
    "name": "ipython",
    "version": 3
   },
   "file_extension": ".py",
   "mimetype": "text/x-python",
   "name": "python",
   "nbconvert_exporter": "python",
   "pygments_lexer": "ipython3",
   "version": "3.10.7 (tags/v3.10.7:6cc6b13, Sep  5 2022, 14:08:36) [MSC v.1933 64 bit (AMD64)]"
  },
  "orig_nbformat": 4,
  "vscode": {
   "interpreter": {
    "hash": "33b937bef43efa2a1535649a0ecede60f732469583961989e654da1c5a454a04"
   }
  }
 },
 "nbformat": 4,
 "nbformat_minor": 2
}
