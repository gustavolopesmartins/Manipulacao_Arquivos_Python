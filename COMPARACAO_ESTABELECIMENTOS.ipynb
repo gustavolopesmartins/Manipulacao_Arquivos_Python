{
 "cells": [
  {
   "cell_type": "code",
   "execution_count": 1,
   "metadata": {},
   "outputs": [],
   "source": [
    "# ler todos os arquivos csv do diretório e guardar em um objeto\n",
    "# import required modules\n",
    "import numpy as np\n",
    "import time\n",
    "import os\n",
    "import re\n",
    "import pandas as pd\n",
    "from dask import dataframe as dd\n",
    "from collections import Counter\n",
    "\n",
    "diretorio = r'Bases/Arquivos_Limpos/'\n",
    "all_files = list(filter(lambda x: '.csv' in x, os.listdir(diretorio)))\n",
    "\n",
    "#Warnings: Possui uma série de funções e comandos para tratamento de mensagens de avisos e alertas do Python\n",
    "import warnings\n",
    "warnings.filterwarnings(\"ignore\")\n",
    "\n",
    "#Comando para exibir todas colunas do arquivo\n",
    "pd.set_option('display.max_columns', None)\n",
    "pd.set_option('display.max_rows', None)"
   ]
  },
  {
   "cell_type": "code",
   "execution_count": 2,
   "metadata": {},
   "outputs": [],
   "source": [
    "# Layout CNPJ\n",
    "CNPJ = {\"EMPRE\" : ['CNPJ_BASE', 'RAZAO_SOCIAL', 'NATUREZA_JURIDICA' , 'QUALIFICACAO' ,\n",
    "          'VALOR_CAPITAL_SOCIAL' , 'PORTE_EMPRESA'  , 'ENTE_FEDERATIVO'],\n",
    "\n",
    "\"ESTABELE\" : ['CNPJ_BASE', 'CNPJ_ORDEM' , 'CNPJ_DV' , 'MATRIZ_FILIAL'  , 'NOME_FANTASIA' , 'SITUACAO_CADASTRAL' ,\n",
    "              'DATA_SITUACAO_CADASTRAL'  , 'MOTIVO_SITUACAO_CADASTRAL'  , 'CIDADE_EXTERIOR'  , 'PAIS'  , 'DATA_INICIO_ATIVIDADE'  ,\n",
    "              'CNAE_PRINCIPAL'  , 'CNAE_SECUNDARIO' , 'TIPO_LOGRADOURO'  , 'LOGRADOURO'  , 'NUMERO'  , 'COMPLEMENTO' ,\n",
    "              'BAIRRO'  , 'CEP'  , 'UF'  , 'MUNICIPIO'  , 'DDD1'  , 'TELEFONE1'  , 'DDD2'  , 'TELEFONE2'  ,\n",
    "              'DDD_FAX'  , 'FAX'  , 'EMAIL'  , 'SITUACAO_ESPECIAL'  , 'DATA_SITUACAO_ESPECIAL'],  \n",
    "\n",
    "\"SIMPLES\" : ['CNPJ_BASE'  , 'OPCAO_SIMPLES'  , 'DATA_OPCAO_SIMPLES'  , 'DATA_EXCLUSAO_SIMPLES'  ,\n",
    "             'OPCAO_MEI'  , 'DATA_OPCAO_MEI'  , 'DATA_EXCLUSAO_MEI'],\n",
    "\n",
    "\"SOCIO\" : ['CNPJ_BASE'  , 'TIPO'  , 'NOME'  , 'CPF_CNPJ'  , 'QUALIFICACAO'  , 'DATA_ENTRADA' ,\n",
    "            'PAIS' , 'REPRESENTANTE'  , 'NOME_REPRESENTANTE'  , 'QUALIFICACAO_REPRESENTANTE'  , 'FAIXA_ETARIA'  ],\n",
    "\n",
    "\"PAIS\" : ['CODIGO_PAIS' , 'PAIS'],\n",
    "\n",
    "\"MUNIC\" : ['MUNICIPIO'  , 'MUNICIPIO'  ],\n",
    "\n",
    "\"QUALS\" : ['QUALIFICACAO', 'QUALIFICACAO' ],\n",
    "\n",
    "\"NATJU\" : ['NATUREZA_JURIDICA'  , 'NATUREZA_JURIDICA'],\n",
    "\n",
    "\"MOTI\" : ['MOTIVO_SITUACAO_CADASTRAL'  , 'MOTIVO_SITUACAO_CADASTRAL'  ],\n",
    "\n",
    "\"CNAE\" : ['CODIGO_CNAE'  , 'CNAE' ]}\n"
   ]
  },
  {
   "cell_type": "code",
   "execution_count": 2,
   "metadata": {},
   "outputs": [],
   "source": [
    "CNAES = {5611201:'Restaurantes e similares',\n",
    "        5611203:'Lanchonetes casas de chá de sucos e similares',\n",
    "        5611204:'Bares e outros estabelecimentos especializados em servir bebidas sem entretenimento',\n",
    "        5611205:'Bares e outros estabelecimentos especializados em servir bebidas com entretenimento',\n",
    "        5612100: 'Serviços ambulantes de alimentação'}\n",
    "\n",
    "lista_cnae = []\n",
    "for cnae in CNAES.keys():\n",
    "    lista_cnae.append(cnae)"
   ]
  },
  {
   "cell_type": "code",
   "execution_count": 3,
   "metadata": {},
   "outputs": [],
   "source": [
    "cartoes = pd.read_excel(r\"C:\\Users\\ABRASEL NACIONAL\\Documents\\CNPJ_PROGRAMATICA\\Painel_Leads\\BaseCsv\\ATUALIZADO_December_Estabelecimentos_BenVisaVale.xlsx\")\n",
    "cartoes.head(5)\n",
    "lista_lojas_cartoes = cartoes['Estabelecimento'].map(str).to_list()\n",
    "lista_enderecos_cartoes = cartoes['Endereço'].map(str).to_list()\n",
    "del cartoes"
   ]
  },
  {
   "cell_type": "code",
   "execution_count": 5,
   "metadata": {},
   "outputs": [
    {
     "data": {
      "text/html": [
       "<div>\n",
       "<style scoped>\n",
       "    .dataframe tbody tr th:only-of-type {\n",
       "        vertical-align: middle;\n",
       "    }\n",
       "\n",
       "    .dataframe tbody tr th {\n",
       "        vertical-align: top;\n",
       "    }\n",
       "\n",
       "    .dataframe thead th {\n",
       "        text-align: right;\n",
       "    }\n",
       "</style>\n",
       "<table border=\"1\" class=\"dataframe\">\n",
       "  <thead>\n",
       "    <tr style=\"text-align: right;\">\n",
       "      <th></th>\n",
       "      <th>NOME_FANTASIA</th>\n",
       "      <th>LOGRADOURO</th>\n",
       "      <th>NUMERO</th>\n",
       "      <th>COMPLEMENTO</th>\n",
       "      <th>BAIRRO</th>\n",
       "    </tr>\n",
       "  </thead>\n",
       "  <tbody>\n",
       "    <tr>\n",
       "      <th>0</th>\n",
       "      <td>AGO RESTOBAR</td>\n",
       "      <td>CLOUTIDES PEREIRA ROCHA</td>\n",
       "      <td>SN</td>\n",
       "      <td>NaN</td>\n",
       "      <td>BAIRRO CEARENSE</td>\n",
       "    </tr>\n",
       "    <tr>\n",
       "      <th>1</th>\n",
       "      <td>Indisponível</td>\n",
       "      <td>GETULIO VARGAS</td>\n",
       "      <td>158</td>\n",
       "      <td>NaN</td>\n",
       "      <td>CENTRO</td>\n",
       "    </tr>\n",
       "    <tr>\n",
       "      <th>2</th>\n",
       "      <td>PROMESSA DE DEUS</td>\n",
       "      <td>SALAO</td>\n",
       "      <td>681</td>\n",
       "      <td>BLOCO CASA</td>\n",
       "      <td>RUA AUGUSTINHO ALEGRE CHIC</td>\n",
       "    </tr>\n",
       "    <tr>\n",
       "      <th>3</th>\n",
       "      <td>PESQUE &amp; PAGUE BOM PESQUEIRO</td>\n",
       "      <td>RODOVIA PR364</td>\n",
       "      <td>SN</td>\n",
       "      <td>NaN</td>\n",
       "      <td>CABECEIRA DO ARROIO GRANDE</td>\n",
       "    </tr>\n",
       "    <tr>\n",
       "      <th>4</th>\n",
       "      <td>BAR DO BEM</td>\n",
       "      <td>PARA</td>\n",
       "      <td>440</td>\n",
       "      <td>NaN</td>\n",
       "      <td>PACOVAL</td>\n",
       "    </tr>\n",
       "  </tbody>\n",
       "</table>\n",
       "</div>"
      ],
      "text/plain": [
       "                  NOME_FANTASIA               LOGRADOURO NUMERO COMPLEMENTO  \\\n",
       "0                  AGO RESTOBAR  CLOUTIDES PEREIRA ROCHA     SN         NaN   \n",
       "1                  Indisponível           GETULIO VARGAS    158         NaN   \n",
       "2              PROMESSA DE DEUS                    SALAO    681  BLOCO CASA   \n",
       "3  PESQUE & PAGUE BOM PESQUEIRO            RODOVIA PR364     SN         NaN   \n",
       "4                    BAR DO BEM                     PARA    440         NaN   \n",
       "\n",
       "                       BAIRRO  \n",
       "0             BAIRRO CEARENSE  \n",
       "1                      CENTRO  \n",
       "2  RUA AUGUSTINHO ALEGRE CHIC  \n",
       "3  CABECEIRA DO ARROIO GRANDE  \n",
       "4                     PACOVAL  "
      ]
     },
     "execution_count": 5,
     "metadata": {},
     "output_type": "execute_result"
    }
   ],
   "source": [
    "\n",
    "df_1 = pd.read_csv(f'{diretorio}{all_files[0]}', names=['NOME_FANTASIA','LOGRADOURO','NUMERO','COMPLEMENTO','BAIRRO'], sep=';',encoding='utf-8', usecols=[4, 14, 15, 16, 17], low_memory=False)\n",
    "df_1.head(5)\n"
   ]
  },
  {
   "cell_type": "code",
   "execution_count": 9,
   "metadata": {},
   "outputs": [],
   "source": [
    "NOMEBEN_OK = []\n",
    "for row in df_1['NOME_FANTASIA'].map(str):\n",
    "    if row in lista_lojas_cartoes:\n",
    "        NOMEBEN_OK.append(1)\n",
    "    else:\n",
    "        NOMEBEN_OK.append(0)\n",
    "print(Counter(NOMEBEN_OK).keys())\n",
    "print(Counter(NOMEBEN_OK).values())"
   ]
  },
  {
   "cell_type": "code",
   "execution_count": 8,
   "metadata": {},
   "outputs": [],
   "source": [
    "NOMEBEN_OK = []\n",
    "for drow in df_1['NOME_FANTASIA'].map(str):\n",
    "    for crow in lista_lojas_cartoes:\n",
    "        if drow in crow:\n",
    "            NOMEBEN_OK.append(1)\n",
    "        else:\n",
    "            NOMEBEN_OK.append(0)\n",
    "print(Counter(NOMEBEN_OK).keys())\n",
    "print(Counter(NOMEBEN_OK).values())"
   ]
  },
  {
   "cell_type": "code",
   "execution_count": 6,
   "metadata": {},
   "outputs": [
    {
     "name": "stdout",
     "output_type": "stream",
     "text": [
      "SIM\n"
     ]
    }
   ],
   "source": [
    "TESTE = ['RUA CARACA 934, 934 CASA NOSSA SENHORA DA CONCEIÇÃO']\t\n",
    "\n",
    "if '934 CASA' in str(TESTE):\n",
    "    print('SIM')\n",
    "else:\n",
    "    print('NÃO')"
   ]
  },
  {
   "cell_type": "code",
   "execution_count": 18,
   "metadata": {},
   "outputs": [
    {
     "name": "stdout",
     "output_type": "stream",
     "text": [
      "dict_keys([0, 1])\n",
      "dict_values([69957, 4948])\n"
     ]
    }
   ],
   "source": [
    "print(Counter(NOMEBEN_OK).keys())\n",
    "print(Counter(NOMEBEN_OK).values())"
   ]
  },
  {
   "cell_type": "code",
   "execution_count": 10,
   "metadata": {},
   "outputs": [],
   "source": [
    "LOGRADOUROBEN_OK = []\n",
    "for row in df_1['LOGRADOURO'].map(str):\n",
    "    if row in lista_enderecos_cartoes:\n",
    "        LOGRADOUROBEN_OK.append(1)\n",
    "    else:\n",
    "        LOGRADOUROBEN_OK.append(0)\n",
    "print(Counter(LOGRADOUROBEN_OK).keys())\n",
    "print(Counter(LOGRADOUROBEN_OK).values())"
   ]
  },
  {
   "cell_type": "code",
   "execution_count": 17,
   "metadata": {},
   "outputs": [
    {
     "name": "stdout",
     "output_type": "stream",
     "text": [
      "dict_keys([0])\n",
      "dict_values([74905])\n"
     ]
    }
   ],
   "source": [
    "print(Counter(LOGRADOUROBEN_OK).keys())\n",
    "print(Counter(LOGRADOUROBEN_OK).values())"
   ]
  },
  {
   "cell_type": "code",
   "execution_count": 11,
   "metadata": {},
   "outputs": [],
   "source": [
    "NUMEROBEN_OK = []\n",
    "for row in df_1['NUMERO'].map(str):\n",
    "    if row in lista_enderecos_cartoes:\n",
    "        NUMEROBEN_OK.append(1)\n",
    "    else:\n",
    "        NUMEROBEN_OK.append(0)\n",
    "print(Counter(NUMEROBEN_OK).keys())\n",
    "print(Counter(NUMEROBEN_OK).values())"
   ]
  },
  {
   "cell_type": "code",
   "execution_count": 16,
   "metadata": {},
   "outputs": [
    {
     "name": "stdout",
     "output_type": "stream",
     "text": [
      "dict_keys([0])\n",
      "dict_values([74905])\n"
     ]
    }
   ],
   "source": [
    "print(Counter(NUMEROBEN_OK).keys())\n",
    "print(Counter(NUMEROBEN_OK).values())"
   ]
  },
  {
   "cell_type": "code",
   "execution_count": null,
   "metadata": {},
   "outputs": [],
   "source": [
    "COMPLEMENTOBEN_OK = []\n",
    "for row in df_1['COMPLEMENTO'].map(str):\n",
    "    if row in lista_enderecos_cartoes:\n",
    "        COMPLEMENTOBEN_OK.append(1)\n",
    "    else:\n",
    "        COMPLEMENTOBEN_OK.append(0)\n",
    "print(Counter(COMPLEMENTOBEN_OK).keys())\n",
    "print(Counter(COMPLEMENTOBEN_OK).values())"
   ]
  },
  {
   "cell_type": "code",
   "execution_count": 15,
   "metadata": {},
   "outputs": [
    {
     "name": "stdout",
     "output_type": "stream",
     "text": [
      "dict_keys([0])\n",
      "dict_values([74905])\n"
     ]
    }
   ],
   "source": [
    "print(Counter(COMPLEMENTOBEN_OK).keys())\n",
    "print(Counter(COMPLEMENTOBEN_OK).values())"
   ]
  },
  {
   "cell_type": "code",
   "execution_count": 14,
   "metadata": {},
   "outputs": [
    {
     "name": "stdout",
     "output_type": "stream",
     "text": [
      "dict_keys([0])\n",
      "dict_values([74905])\n"
     ]
    }
   ],
   "source": [
    "BAIRROBEM_OK = []\n",
    "for row in df_1['BAIRRO'].map(str):\n",
    "    if row in lista_enderecos_cartoes:\n",
    "        BAIRROBEM_OK.append(1)\n",
    "    else:\n",
    "        BAIRROBEM_OK.append(0)\n",
    "print(Counter(BAIRROBEM_OK).keys())\n",
    "print(Counter(BAIRROBEM_OK).values())"
   ]
  }
 ],
 "metadata": {
  "kernelspec": {
   "display_name": "Python 3.10.7 64-bit",
   "language": "python",
   "name": "python3"
  },
  "language_info": {
   "codemirror_mode": {
    "name": "ipython",
    "version": 3
   },
   "file_extension": ".py",
   "mimetype": "text/x-python",
   "name": "python",
   "nbconvert_exporter": "python",
   "pygments_lexer": "ipython3",
   "version": "3.10.7"
  },
  "orig_nbformat": 4,
  "vscode": {
   "interpreter": {
    "hash": "33b937bef43efa2a1535649a0ecede60f732469583961989e654da1c5a454a04"
   }
  }
 },
 "nbformat": 4,
 "nbformat_minor": 2
}
