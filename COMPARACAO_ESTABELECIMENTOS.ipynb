{
 "cells": [
  {
   "cell_type": "code",
   "execution_count": null,
   "metadata": {},
   "outputs": [],
   "source": [
    "# ler todos os arquivos csv do diretório e guardar em um objeto\n",
    "# import required modules\n",
    "import numpy as np\n",
    "import time\n",
    "import os\n",
    "import re\n",
    "import pandas as pd\n",
    "from dask import dataframe as dd\n",
    "from collections import Counter\n",
    "from tqdm import tqdm\n",
    "diretorio = r'Bases/Arquivos_Limpos/'\n",
    "all_files = list(filter(lambda x: '.csv' in x, os.listdir(diretorio)))\n",
    "\n",
    "#Warnings: Possui uma série de funções e comandos para tratamento de mensagens de avisos e alertas do Python\n",
    "import warnings\n",
    "warnings.filterwarnings(\"ignore\")\n",
    "\n",
    "#Comando para exibir todas colunas do arquivo\n",
    "pd.set_option('display.max_columns', None)\n",
    "pd.set_option('display.max_rows', None)"
   ]
  },
  {
   "cell_type": "code",
   "execution_count": null,
   "metadata": {},
   "outputs": [],
   "source": [
    "# Layout CNPJ\n",
    "CNPJ = {\"EMPRE\" : ['CNPJ_BASE', 'RAZAO_SOCIAL', 'NATUREZA_JURIDICA' , 'QUALIFICACAO' ,\n",
    "          'VALOR_CAPITAL_SOCIAL' , 'PORTE_EMPRESA'  , 'ENTE_FEDERATIVO'],\n",
    "\n",
    "\"ESTABELE\" : ['CNPJ_BASE', 'CNPJ_ORDEM' , 'CNPJ_DV' , 'MATRIZ_FILIAL'  , 'NOME_FANTASIA' , 'SITUACAO_CADASTRAL' ,\n",
    "              'DATA_SITUACAO_CADASTRAL'  , 'MOTIVO_SITUACAO_CADASTRAL'  , 'CIDADE_EXTERIOR'  , 'PAIS'  , 'DATA_INICIO_ATIVIDADE'  ,\n",
    "              'CNAE_PRINCIPAL'  , 'CNAE_SECUNDARIO' , 'TIPO_LOGRADOURO'  , 'LOGRADOURO'  , 'NUMERO'  , 'COMPLEMENTO' ,\n",
    "              'BAIRRO'  , 'CEP'  , 'UF'  , 'MUNICIPIO'  , 'DDD1'  , 'TELEFONE1'  , 'DDD2'  , 'TELEFONE2'  ,\n",
    "              'DDD_FAX'  , 'FAX'  , 'EMAIL'  , 'SITUACAO_ESPECIAL'  , 'DATA_SITUACAO_ESPECIAL'],  \n",
    "\n",
    "\"SIMPLES\" : ['CNPJ_BASE'  , 'OPCAO_SIMPLES'  , 'DATA_OPCAO_SIMPLES'  , 'DATA_EXCLUSAO_SIMPLES'  ,\n",
    "             'OPCAO_MEI'  , 'DATA_OPCAO_MEI'  , 'DATA_EXCLUSAO_MEI'],\n",
    "\n",
    "\"SOCIO\" : ['CNPJ_BASE'  , 'TIPO'  , 'NOME'  , 'CPF_CNPJ'  , 'QUALIFICACAO'  , 'DATA_ENTRADA' ,\n",
    "            'PAIS' , 'REPRESENTANTE'  , 'NOME_REPRESENTANTE'  , 'QUALIFICACAO_REPRESENTANTE'  , 'FAIXA_ETARIA'  ],\n",
    "\n",
    "\"PAIS\" : ['CODIGO_PAIS' , 'PAIS'],\n",
    "\n",
    "\"MUNIC\" : ['MUNICIPIO'  , 'MUNICIPIO'  ],\n",
    "\n",
    "\"QUALS\" : ['QUALIFICACAO', 'QUALIFICACAO' ],\n",
    "\n",
    "\"NATJU\" : ['NATUREZA_JURIDICA'  , 'NATUREZA_JURIDICA'],\n",
    "\n",
    "\"MOTI\" : ['MOTIVO_SITUACAO_CADASTRAL'  , 'MOTIVO_SITUACAO_CADASTRAL'  ],\n",
    "\n",
    "\"CNAE\" : ['CODIGO_CNAE'  , 'CNAE' ]}\n"
   ]
  },
  {
   "cell_type": "code",
   "execution_count": 2,
   "metadata": {},
   "outputs": [
    {
     "data": {
      "text/html": [
       "<div>\n",
       "<style scoped>\n",
       "    .dataframe tbody tr th:only-of-type {\n",
       "        vertical-align: middle;\n",
       "    }\n",
       "\n",
       "    .dataframe tbody tr th {\n",
       "        vertical-align: top;\n",
       "    }\n",
       "\n",
       "    .dataframe thead th {\n",
       "        text-align: right;\n",
       "    }\n",
       "</style>\n",
       "<table border=\"1\" class=\"dataframe\">\n",
       "  <thead>\n",
       "    <tr style=\"text-align: right;\">\n",
       "      <th></th>\n",
       "      <th>Estabelecimento</th>\n",
       "      <th>Endereço</th>\n",
       "    </tr>\n",
       "  </thead>\n",
       "  <tbody>\n",
       "    <tr>\n",
       "      <th>0</th>\n",
       "      <td>GRAN PASTEL GOURMET</td>\n",
       "      <td>RUA CARACA 934, 934 CASA NOSSA SENHORA DA CONC...</td>\n",
       "    </tr>\n",
       "    <tr>\n",
       "      <th>1</th>\n",
       "      <td>M130 SERRA</td>\n",
       "      <td>R IVAI, 130 SERRA, BELO HORIZONTE - MG</td>\n",
       "    </tr>\n",
       "    <tr>\n",
       "      <th>2</th>\n",
       "      <td>COMBATE DISTRIBUIDORA</td>\n",
       "      <td>RUA BAMBUI 56, 56 LOJA A NOSSA SENHORA DA CONC...</td>\n",
       "    </tr>\n",
       "    <tr>\n",
       "      <th>3</th>\n",
       "      <td>RESTAURANTE GFH 8 EIRELI</td>\n",
       "      <td>RUA ORIENTE 827, 2323 PORTARIA - SERRA, BELO H...</td>\n",
       "    </tr>\n",
       "    <tr>\n",
       "      <th>4</th>\n",
       "      <td>EPA SUPERMERCADOS</td>\n",
       "      <td>R CARACA, 600 SERRA, BELO HORIZONTE - MG</td>\n",
       "    </tr>\n",
       "  </tbody>\n",
       "</table>\n",
       "</div>"
      ],
      "text/plain": [
       "            Estabelecimento                                           Endereço\n",
       "0       GRAN PASTEL GOURMET  RUA CARACA 934, 934 CASA NOSSA SENHORA DA CONC...\n",
       "1                M130 SERRA             R IVAI, 130 SERRA, BELO HORIZONTE - MG\n",
       "2     COMBATE DISTRIBUIDORA  RUA BAMBUI 56, 56 LOJA A NOSSA SENHORA DA CONC...\n",
       "3  RESTAURANTE GFH 8 EIRELI  RUA ORIENTE 827, 2323 PORTARIA - SERRA, BELO H...\n",
       "4         EPA SUPERMERCADOS           R CARACA, 600 SERRA, BELO HORIZONTE - MG"
      ]
     },
     "execution_count": 2,
     "metadata": {},
     "output_type": "execute_result"
    }
   ],
   "source": [
    "cartoes = pd.read_excel(r\"C:\\Users\\ABRASEL NACIONAL\\Documents\\CNPJ_PROGRAMATICA\\Painel_Leads\\BaseCsv\\ATUALIZADO_December_Estabelecimentos_BenVisaVale.xlsx\" , usecols=[0,1])\n",
    "cartoes.head(5)\n"
   ]
  },
  {
   "cell_type": "code",
   "execution_count": 3,
   "metadata": {},
   "outputs": [],
   "source": [
    "lista_lojas_cartoes = cartoes['Estabelecimento'].map(str).to_list()\n",
    "lista_enderecos_cartoes = cartoes['Endereço'].map(str).to_list()\n",
    "lista_enderecos_cartoes = str(lista_enderecos_cartoes)\n",
    "del cartoes"
   ]
  },
  {
   "cell_type": "code",
   "execution_count": 14,
   "metadata": {},
   "outputs": [
    {
     "name": "stdout",
     "output_type": "stream",
     "text": [
      "POINT BEER\n"
     ]
    }
   ],
   "source": [
    "for i in lista_lojas_cartoes:\n",
    "    if i == 'POINT BEER':\n",
    "        print(i)\n",
    "    else:\n",
    "        continue"
   ]
  },
  {
   "cell_type": "code",
   "execution_count": 4,
   "metadata": {},
   "outputs": [
    {
     "data": {
      "text/html": [
       "<div>\n",
       "<style scoped>\n",
       "    .dataframe tbody tr th:only-of-type {\n",
       "        vertical-align: middle;\n",
       "    }\n",
       "\n",
       "    .dataframe tbody tr th {\n",
       "        vertical-align: top;\n",
       "    }\n",
       "\n",
       "    .dataframe thead th {\n",
       "        text-align: right;\n",
       "    }\n",
       "</style>\n",
       "<table border=\"1\" class=\"dataframe\">\n",
       "  <thead>\n",
       "    <tr style=\"text-align: right;\">\n",
       "      <th></th>\n",
       "      <th>NOME_FANTASIA</th>\n",
       "      <th>LOGRADOURO_NUMERO</th>\n",
       "      <th>COMPLEMENTO_BAIRRO</th>\n",
       "    </tr>\n",
       "  </thead>\n",
       "  <tbody>\n",
       "    <tr>\n",
       "      <th>0</th>\n",
       "      <td>AGO RESTOBAR</td>\n",
       "      <td>CLOUTIDES PEREIRA ROCHA SN</td>\n",
       "      <td>BAIRRO CEARENSE</td>\n",
       "    </tr>\n",
       "    <tr>\n",
       "      <th>1</th>\n",
       "      <td>Indisponível</td>\n",
       "      <td>GETULIO VARGAS 158</td>\n",
       "      <td>CENTRO</td>\n",
       "    </tr>\n",
       "    <tr>\n",
       "      <th>2</th>\n",
       "      <td>PROMESSA DE DEUS</td>\n",
       "      <td>SALAO 681</td>\n",
       "      <td>BLOCO CASA RUA AUGUSTINHO ALEGRE CHIC</td>\n",
       "    </tr>\n",
       "    <tr>\n",
       "      <th>3</th>\n",
       "      <td>PESQUE &amp; PAGUE BOM PESQUEIRO</td>\n",
       "      <td>RODOVIA PR364 SN</td>\n",
       "      <td>CABECEIRA DO ARROIO GRANDE</td>\n",
       "    </tr>\n",
       "    <tr>\n",
       "      <th>4</th>\n",
       "      <td>BAR DO BEM</td>\n",
       "      <td>PARA 440</td>\n",
       "      <td>PACOVAL</td>\n",
       "    </tr>\n",
       "  </tbody>\n",
       "</table>\n",
       "</div>"
      ],
      "text/plain": [
       "                  NOME_FANTASIA           LOGRADOURO_NUMERO  \\\n",
       "0                  AGO RESTOBAR  CLOUTIDES PEREIRA ROCHA SN   \n",
       "1                  Indisponível          GETULIO VARGAS 158   \n",
       "2              PROMESSA DE DEUS                   SALAO 681   \n",
       "3  PESQUE & PAGUE BOM PESQUEIRO            RODOVIA PR364 SN   \n",
       "4                    BAR DO BEM                    PARA 440   \n",
       "\n",
       "                      COMPLEMENTO_BAIRRO  \n",
       "0                        BAIRRO CEARENSE  \n",
       "1                                 CENTRO  \n",
       "2  BLOCO CASA RUA AUGUSTINHO ALEGRE CHIC  \n",
       "3             CABECEIRA DO ARROIO GRANDE  \n",
       "4                                PACOVAL  "
      ]
     },
     "execution_count": 4,
     "metadata": {},
     "output_type": "execute_result"
    }
   ],
   "source": [
    "df_1 = pd.read_csv(f'{diretorio}{all_files[0]}', names=['NOME_FANTASIA','LOGRADOURO','NUMERO','COMPLEMENTO','BAIRRO'], sep=';',encoding='utf-8', usecols=[4, 14, 15, 16, 17], low_memory=False)\n",
    "df_1['LOGRADOURO_NUMERO'] = df_1['LOGRADOURO'].map(str) + ' ' + df_1['NUMERO'].map(str)\n",
    "df_1['LOGRADOURO_NUMERO'].replace(regex='nan', value='', inplace=True)\n",
    "df_1['COMPLEMENTO_BAIRRO'] = df_1['COMPLEMENTO'].map(str) + ' ' + df_1['BAIRRO'].map(str)\n",
    "df_1['COMPLEMENTO_BAIRRO'].replace(regex='nan', value='', inplace=True)\n",
    "df_1.drop(['LOGRADOURO','NUMERO','COMPLEMENTO','BAIRRO'],axis=1, inplace=True)\n",
    "df_1.head(5)\n"
   ]
  },
  {
   "cell_type": "code",
   "execution_count": 20,
   "metadata": {},
   "outputs": [
    {
     "name": "stderr",
     "output_type": "stream",
     "text": [
      "25534it [00:50, 497.58it/s]"
     ]
    }
   ],
   "source": [
    "NOMEBEN_OK = []\n",
    "for row in tqdm(df_1['NOME_FANTASIA']):\n",
    "    if row in lista_lojas_cartoes:\n",
    "        NOMEBEN_OK.append(row[1])\n",
    "    else:\n",
    "        NOMEBEN_OK.append(0)\n",
    "print(Counter(NOMEBEN_OK).keys())\n",
    "print(Counter(NOMEBEN_OK).values())"
   ]
  },
  {
   "cell_type": "code",
   "execution_count": 7,
   "metadata": {},
   "outputs": [
    {
     "name": "stderr",
     "output_type": "stream",
     "text": [
      "74905it [02:45, 451.97it/s]"
     ]
    },
    {
     "name": "stdout",
     "output_type": "stream",
     "text": [
      "dict_keys([0, 1])\n",
      "dict_values([72339, 2566])\n"
     ]
    },
    {
     "name": "stderr",
     "output_type": "stream",
     "text": [
      "\n"
     ]
    }
   ],
   "source": [
    "RUA_NUMERO_BEN_OK = []\n",
    "for row in tqdm(df_1['LOGRADOURO_NUMERO']):\n",
    "    if row in lista_enderecos_cartoes:\n",
    "        RUA_NUMERO_BEN_OK.append(1)\n",
    "    else:\n",
    "        RUA_NUMERO_BEN_OK.append(0)\n",
    "print(Counter(RUA_NUMERO_BEN_OK).keys())\n",
    "print(Counter(RUA_NUMERO_BEN_OK).values())"
   ]
  },
  {
   "cell_type": "code",
   "execution_count": 5,
   "metadata": {},
   "outputs": [
    {
     "name": "stderr",
     "output_type": "stream",
     "text": [
      "74905it [01:49, 683.72it/s]"
     ]
    },
    {
     "name": "stdout",
     "output_type": "stream",
     "text": [
      "dict_keys([0, 1])\n",
      "dict_values([38942, 35963])\n"
     ]
    },
    {
     "name": "stderr",
     "output_type": "stream",
     "text": [
      "\n"
     ]
    }
   ],
   "source": [
    "COMPLEMENTO_BAIRRO_BEN_OK = []\n",
    "for row in tqdm(df_1['COMPLEMENTO_BAIRRO']):\n",
    "    if row in lista_enderecos_cartoes:\n",
    "        COMPLEMENTO_BAIRRO_BEN_OK.append(1)\n",
    "    else:\n",
    "        COMPLEMENTO_BAIRRO_BEN_OK.append(0)\n",
    "print(Counter(COMPLEMENTO_BAIRRO_BEN_OK).keys())\n",
    "print(Counter(COMPLEMENTO_BAIRRO_BEN_OK).values())"
   ]
  },
  {
   "cell_type": "code",
   "execution_count": 13,
   "metadata": {},
   "outputs": [
    {
     "data": {
      "text/html": [
       "<div>\n",
       "<style scoped>\n",
       "    .dataframe tbody tr th:only-of-type {\n",
       "        vertical-align: middle;\n",
       "    }\n",
       "\n",
       "    .dataframe tbody tr th {\n",
       "        vertical-align: top;\n",
       "    }\n",
       "\n",
       "    .dataframe thead th {\n",
       "        text-align: right;\n",
       "    }\n",
       "</style>\n",
       "<table border=\"1\" class=\"dataframe\">\n",
       "  <thead>\n",
       "    <tr style=\"text-align: right;\">\n",
       "      <th></th>\n",
       "      <th>NOMEBEN_OK</th>\n",
       "      <th>RUA_NUMERO_BEN_OK</th>\n",
       "      <th>COMPLEMENTO_BAIRRO_BEN_OK</th>\n",
       "    </tr>\n",
       "  </thead>\n",
       "  <tbody>\n",
       "    <tr>\n",
       "      <th>0</th>\n",
       "      <td>0</td>\n",
       "      <td>0</td>\n",
       "      <td>0</td>\n",
       "    </tr>\n",
       "    <tr>\n",
       "      <th>1</th>\n",
       "      <td>0</td>\n",
       "      <td>0</td>\n",
       "      <td>1</td>\n",
       "    </tr>\n",
       "    <tr>\n",
       "      <th>2</th>\n",
       "      <td>0</td>\n",
       "      <td>0</td>\n",
       "      <td>0</td>\n",
       "    </tr>\n",
       "    <tr>\n",
       "      <th>3</th>\n",
       "      <td>0</td>\n",
       "      <td>0</td>\n",
       "      <td>0</td>\n",
       "    </tr>\n",
       "    <tr>\n",
       "      <th>4</th>\n",
       "      <td>0</td>\n",
       "      <td>0</td>\n",
       "      <td>1</td>\n",
       "    </tr>\n",
       "  </tbody>\n",
       "</table>\n",
       "</div>"
      ],
      "text/plain": [
       "   NOMEBEN_OK  RUA_NUMERO_BEN_OK  COMPLEMENTO_BAIRRO_BEN_OK\n",
       "0           0                  0                          0\n",
       "1           0                  0                          1\n",
       "2           0                  0                          0\n",
       "3           0                  0                          0\n",
       "4           0                  0                          1"
      ]
     },
     "execution_count": 13,
     "metadata": {},
     "output_type": "execute_result"
    }
   ],
   "source": [
    "aceitaben = { 'NOMEBEN_OK': NOMEBEN_OK, 'RUA_NUMERO_BEN_OK': RUA_NUMERO_BEN_OK , 'COMPLEMENTO_BAIRRO_BEN_OK' : COMPLEMENTO_BAIRRO_BEN_OK}\n",
    "dados = pd.DataFrame(aceitaben)\n",
    "dados.head(5)"
   ]
  }
 ],
 "metadata": {
  "kernelspec": {
   "display_name": "Python 3.10.8 64-bit (microsoft store)",
   "language": "python",
   "name": "python3"
  },
  "language_info": {
   "codemirror_mode": {
    "name": "ipython",
    "version": 3
   },
   "file_extension": ".py",
   "mimetype": "text/x-python",
   "name": "python",
   "nbconvert_exporter": "python",
   "pygments_lexer": "ipython3",
   "version": "3.10.8"
  },
  "orig_nbformat": 4,
  "vscode": {
   "interpreter": {
    "hash": "882ef17d838d5346a4d880fa9fc9a881a73e5a42d82a07a53c57f6b083814f25"
   }
  }
 },
 "nbformat": 4,
 "nbformat_minor": 2
}
