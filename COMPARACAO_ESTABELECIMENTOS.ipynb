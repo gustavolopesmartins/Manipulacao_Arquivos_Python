{
 "cells": [
  {
   "cell_type": "code",
   "execution_count": 1,
   "metadata": {},
   "outputs": [],
   "source": [
    "# ler todos os arquivos csv do diretório e guardar em um objeto\n",
    "# import required modules\n",
    "import numpy as np\n",
    "import time\n",
    "import os\n",
    "import re\n",
    "import pandas as pd\n",
    "from dask import dataframe as dd\n",
    "\n",
    "diretorio = r'Bases/'\n",
    "all_files = list(filter(lambda x: '.csv' in x, os.listdir(diretorio)))\n",
    "\n",
    "#Warnings: Possui uma série de funções e comandos para tratamento de mensagens de avisos e alertas do Python\n",
    "import warnings\n",
    "warnings.filterwarnings(\"ignore\")\n",
    "\n",
    "#Comando para exibir todas colunas do arquivo\n",
    "pd.set_option('display.max_columns', None)\n",
    "pd.set_option('display.max_rows', None)"
   ]
  },
  {
   "cell_type": "code",
   "execution_count": 2,
   "metadata": {},
   "outputs": [],
   "source": [
    "CNAES = {5611201:'Restaurantes e similares',\n",
    "        5611203:'Lanchonetes casas de chá de sucos e similares',\n",
    "        5611204:'Bares e outros estabelecimentos especializados em servir bebidas sem entretenimento',\n",
    "        5611205:'Bares e outros estabelecimentos especializados em servir bebidas com entretenimento',\n",
    "        5612100: 'Serviços ambulantes de alimentação'}\n",
    "\n",
    "lista_cnae = []\n",
    "for cnae in CNAES.keys():\n",
    "    lista_cnae.append(cnae)"
   ]
  },
  {
   "cell_type": "code",
   "execution_count": 4,
   "metadata": {},
   "outputs": [
    {
     "data": {
      "text/html": [
       "<div>\n",
       "<style scoped>\n",
       "    .dataframe tbody tr th:only-of-type {\n",
       "        vertical-align: middle;\n",
       "    }\n",
       "\n",
       "    .dataframe tbody tr th {\n",
       "        vertical-align: top;\n",
       "    }\n",
       "\n",
       "    .dataframe thead th {\n",
       "        text-align: right;\n",
       "    }\n",
       "</style>\n",
       "<table border=\"1\" class=\"dataframe\">\n",
       "  <thead>\n",
       "    <tr style=\"text-align: right;\">\n",
       "      <th></th>\n",
       "      <th>Estabelecimento</th>\n",
       "      <th>Endereço</th>\n",
       "      <th>Cidade_UF</th>\n",
       "      <th>Telefone</th>\n",
       "      <th>Latitude</th>\n",
       "      <th>Longitude</th>\n",
       "    </tr>\n",
       "  </thead>\n",
       "  <tbody>\n",
       "    <tr>\n",
       "      <th>0</th>\n",
       "      <td>GRAN PASTEL GOURMET</td>\n",
       "      <td>RUA CARACA 934, 934 CASA NOSSA SENHORA DA CONC...</td>\n",
       "      <td>BELO HORIZONTE - MG</td>\n",
       "      <td>(31) 3222-3020</td>\n",
       "      <td>-19.943231</td>\n",
       "      <td>-43.914264</td>\n",
       "    </tr>\n",
       "    <tr>\n",
       "      <th>1</th>\n",
       "      <td>M130 SERRA</td>\n",
       "      <td>R IVAI, 130 SERRA, BELO HORIZONTE - MG</td>\n",
       "      <td>BELO HORIZONTE - MG</td>\n",
       "      <td>(31) 2555-3395</td>\n",
       "      <td>-19.946082</td>\n",
       "      <td>-43.918500</td>\n",
       "    </tr>\n",
       "    <tr>\n",
       "      <th>2</th>\n",
       "      <td>COMBATE DISTRIBUIDORA</td>\n",
       "      <td>RUA BAMBUI 56, 56 LOJA A NOSSA SENHORA DA CONC...</td>\n",
       "      <td>BELO HORIZONTE - MG</td>\n",
       "      <td>(31) 3444-0680</td>\n",
       "      <td>-19.946167</td>\n",
       "      <td>-43.918805</td>\n",
       "    </tr>\n",
       "    <tr>\n",
       "      <th>3</th>\n",
       "      <td>RESTAURANTE GFH 8 EIRELI</td>\n",
       "      <td>RUA ORIENTE 827, 2323 PORTARIA - SERRA, BELO H...</td>\n",
       "      <td>BELO HORIZONTE - MG</td>\n",
       "      <td>(31) 3273-4341</td>\n",
       "      <td>-19.944962</td>\n",
       "      <td>-43.918727</td>\n",
       "    </tr>\n",
       "    <tr>\n",
       "      <th>4</th>\n",
       "      <td>EPA SUPERMERCADOS</td>\n",
       "      <td>R CARACA, 600 SERRA, BELO HORIZONTE - MG</td>\n",
       "      <td>BELO HORIZONTE - MG</td>\n",
       "      <td>Indisponível</td>\n",
       "      <td>-19.942703</td>\n",
       "      <td>-43.917164</td>\n",
       "    </tr>\n",
       "  </tbody>\n",
       "</table>\n",
       "</div>"
      ],
      "text/plain": [
       "            Estabelecimento  \\\n",
       "0       GRAN PASTEL GOURMET   \n",
       "1                M130 SERRA   \n",
       "2     COMBATE DISTRIBUIDORA   \n",
       "3  RESTAURANTE GFH 8 EIRELI   \n",
       "4         EPA SUPERMERCADOS   \n",
       "\n",
       "                                            Endereço             Cidade_UF  \\\n",
       "0  RUA CARACA 934, 934 CASA NOSSA SENHORA DA CONC...   BELO HORIZONTE - MG   \n",
       "1             R IVAI, 130 SERRA, BELO HORIZONTE - MG   BELO HORIZONTE - MG   \n",
       "2  RUA BAMBUI 56, 56 LOJA A NOSSA SENHORA DA CONC...   BELO HORIZONTE - MG   \n",
       "3  RUA ORIENTE 827, 2323 PORTARIA - SERRA, BELO H...   BELO HORIZONTE - MG   \n",
       "4           R CARACA, 600 SERRA, BELO HORIZONTE - MG   BELO HORIZONTE - MG   \n",
       "\n",
       "         Telefone   Latitude  Longitude  \n",
       "0  (31) 3222-3020 -19.943231 -43.914264  \n",
       "1  (31) 2555-3395 -19.946082 -43.918500  \n",
       "2  (31) 3444-0680 -19.946167 -43.918805  \n",
       "3  (31) 3273-4341 -19.944962 -43.918727  \n",
       "4    Indisponível -19.942703 -43.917164  "
      ]
     },
     "execution_count": 4,
     "metadata": {},
     "output_type": "execute_result"
    }
   ],
   "source": [
    "cartoes = pd.read_excel(r\"C:\\Users\\ABRASEL NACIONAL\\Documents\\CNPJ_PROGRAMATICA\\Painel_Leads\\BaseCsv\\ATUALIZADO_December_Estabelecimentos_BenVisaVale.xlsx\")\n",
    "cartoes.head(5)"
   ]
  },
  {
   "cell_type": "code",
   "execution_count": 5,
   "metadata": {},
   "outputs": [
    {
     "data": {
      "text/html": [
       "<div>\n",
       "<style scoped>\n",
       "    .dataframe tbody tr th:only-of-type {\n",
       "        vertical-align: middle;\n",
       "    }\n",
       "\n",
       "    .dataframe tbody tr th {\n",
       "        vertical-align: top;\n",
       "    }\n",
       "\n",
       "    .dataframe thead th {\n",
       "        text-align: right;\n",
       "    }\n",
       "</style>\n",
       "<table border=\"1\" class=\"dataframe\">\n",
       "  <thead>\n",
       "    <tr style=\"text-align: right;\">\n",
       "      <th></th>\n",
       "      <th>NOME_FANTASIA</th>\n",
       "      <th>LOGRADOURO</th>\n",
       "      <th>NUMERO</th>\n",
       "      <th>COMPLEMENTO</th>\n",
       "      <th>BAIRRO</th>\n",
       "    </tr>\n",
       "  </thead>\n",
       "  <tbody>\n",
       "    <tr>\n",
       "      <th>0</th>\n",
       "      <td>AGO RESTOBAR</td>\n",
       "      <td>CLOUTIDES PEREIRA ROCHA</td>\n",
       "      <td>SN</td>\n",
       "      <td>NaN</td>\n",
       "      <td>BAIRRO CEARENSE</td>\n",
       "    </tr>\n",
       "    <tr>\n",
       "      <th>1</th>\n",
       "      <td>NaN</td>\n",
       "      <td>GETULIO VARGAS</td>\n",
       "      <td>158</td>\n",
       "      <td>NaN</td>\n",
       "      <td>CENTRO</td>\n",
       "    </tr>\n",
       "    <tr>\n",
       "      <th>2</th>\n",
       "      <td>PROMESSA DE DEUS</td>\n",
       "      <td>SALAO</td>\n",
       "      <td>681</td>\n",
       "      <td>BLOCO CASA</td>\n",
       "      <td>RUA AUGUSTINHO ALEGRE CHIC</td>\n",
       "    </tr>\n",
       "    <tr>\n",
       "      <th>3</th>\n",
       "      <td>PESQUE &amp; PAGUE BOM PESQUEIRO</td>\n",
       "      <td>RODOVIA PR364</td>\n",
       "      <td>SN</td>\n",
       "      <td>NaN</td>\n",
       "      <td>CABECEIRA DO ARROIO GRANDE</td>\n",
       "    </tr>\n",
       "    <tr>\n",
       "      <th>4</th>\n",
       "      <td>TCHAY HOUSE</td>\n",
       "      <td>DOUTOR DEMETRIO DE AZEVEDO</td>\n",
       "      <td>501</td>\n",
       "      <td>NaN</td>\n",
       "      <td>JARDIM ALVORADA</td>\n",
       "    </tr>\n",
       "  </tbody>\n",
       "</table>\n",
       "</div>"
      ],
      "text/plain": [
       "                  NOME_FANTASIA                  LOGRADOURO NUMERO  \\\n",
       "0                  AGO RESTOBAR     CLOUTIDES PEREIRA ROCHA     SN   \n",
       "1                           NaN              GETULIO VARGAS    158   \n",
       "2              PROMESSA DE DEUS                       SALAO    681   \n",
       "3  PESQUE & PAGUE BOM PESQUEIRO               RODOVIA PR364     SN   \n",
       "4                   TCHAY HOUSE  DOUTOR DEMETRIO DE AZEVEDO    501   \n",
       "\n",
       "  COMPLEMENTO                      BAIRRO  \n",
       "0         NaN             BAIRRO CEARENSE  \n",
       "1         NaN                      CENTRO  \n",
       "2  BLOCO CASA  RUA AUGUSTINHO ALEGRE CHIC  \n",
       "3         NaN  CABECEIRA DO ARROIO GRANDE  \n",
       "4         NaN             JARDIM ALVORADA  "
      ]
     },
     "execution_count": 5,
     "metadata": {},
     "output_type": "execute_result"
    }
   ],
   "source": [
    "\n",
    "df_1 = pd.read_csv(f'{diretorio}{all_files[0]}', sep=';', usecols=[4,14,15,16,17], low_memory=False)\n",
    "df_1.head(5)\n"
   ]
  },
  {
   "cell_type": "code",
   "execution_count": 17,
   "metadata": {},
   "outputs": [],
   "source": [
    "\n",
    "lista_lojas_cartoes = cartoes['Estabelecimento'].map(str).to_list()\n",
    "lista_enderecos_cartoes = cartoes['Endereço'].map(str).to_list()"
   ]
  },
  {
   "cell_type": "code",
   "execution_count": 10,
   "metadata": {},
   "outputs": [],
   "source": [
    "NOMEBEN_OK = []\n",
    "for row in df_1['NOME_FANTASIA'].map(str):\n",
    "    if row in lista_lojas_cartoes:\n",
    "        NOMEBEN_OK.append(1)\n",
    "    else:\n",
    "        NOMEBEN_OK.append(0)"
   ]
  },
  {
   "cell_type": "code",
   "execution_count": 13,
   "metadata": {},
   "outputs": [
    {
     "data": {
      "text/plain": [
       "54749"
      ]
     },
     "execution_count": 13,
     "metadata": {},
     "output_type": "execute_result"
    }
   ],
   "source": [
    "LOGRADOUROBEN_OK = []\n",
    "for row in df_1['LOGRADOURO'].map(str):\n",
    "    if row in lista_enderecos_cartoes:\n",
    "        LOGRADOUROBEN_OK.append(1)\n",
    "    else:\n",
    "        LOGRADOUROBEN_OK.append(0)"
   ]
  },
  {
   "cell_type": "code",
   "execution_count": null,
   "metadata": {},
   "outputs": [],
   "source": [
    "NUMEROBEN_OK = []\n",
    "for row in df_1['NUMERO'].map(str):\n",
    "    if row in lista_enderecos_cartoes:\n",
    "        NUMEROBEN_OK.append(1)\n",
    "    else:\n",
    "        NUMEROBEN_OK.append(0)"
   ]
  },
  {
   "cell_type": "code",
   "execution_count": 18,
   "metadata": {},
   "outputs": [],
   "source": [
    "COMPLEMENTOBEN_OK = []\n",
    "for row in df_1['COMPLEMENTO'].map(str):\n",
    "    if row in lista_enderecos_cartoes:\n",
    "        COMPLEMENTOBEN_OK.append(1)\n",
    "    else:\n",
    "        COMPLEMENTOBEN_OK.append(0)"
   ]
  },
  {
   "cell_type": "code",
   "execution_count": null,
   "metadata": {},
   "outputs": [],
   "source": [
    "BAIRROBEM_OK = []\n",
    "for row in df_1['BAIRRO'].map(str):\n",
    "    if row in lista_enderecos_cartoes:\n",
    "        BAIRROBEM_OK.append(1)\n",
    "    else:\n",
    "        BAIRROBEM_OK.append(0)"
   ]
  }
 ],
 "metadata": {
  "kernelspec": {
   "display_name": "Python 3.10.7 64-bit",
   "language": "python",
   "name": "python3"
  },
  "language_info": {
   "codemirror_mode": {
    "name": "ipython",
    "version": 3
   },
   "file_extension": ".py",
   "mimetype": "text/x-python",
   "name": "python",
   "nbconvert_exporter": "python",
   "pygments_lexer": "ipython3",
   "version": "3.10.7"
  },
  "orig_nbformat": 4,
  "vscode": {
   "interpreter": {
    "hash": "33b937bef43efa2a1535649a0ecede60f732469583961989e654da1c5a454a04"
   }
  }
 },
 "nbformat": 4,
 "nbformat_minor": 2
}
